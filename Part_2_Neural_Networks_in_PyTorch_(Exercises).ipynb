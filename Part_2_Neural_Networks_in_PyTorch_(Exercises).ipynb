{
  "nbformat": 4,
  "nbformat_minor": 0,
  "metadata": {
    "kernelspec": {
      "display_name": "Python [default]",
      "language": "python",
      "name": "python3"
    },
    "language_info": {
      "codemirror_mode": {
        "name": "ipython",
        "version": 3
      },
      "file_extension": ".py",
      "mimetype": "text/x-python",
      "name": "python",
      "nbconvert_exporter": "python",
      "pygments_lexer": "ipython3",
      "version": "3.6.4"
    },
    "colab": {
      "name": "Part 2 - Neural Networks in PyTorch (Exercises).ipynb",
      "provenance": [],
      "collapsed_sections": [],
      "toc_visible": true
    }
  },
  "cells": [
    {
      "cell_type": "markdown",
      "metadata": {
        "id": "NCDfGTcGhVd4",
        "colab_type": "text"
      },
      "source": [
        "# Neural networks with PyTorch\n",
        "\n",
        "Deep learning networks tend to be massive with dozens or hundreds of layers, that's where the term \"deep\" comes from. You can build one of these deep networks using only weight matrices as we did in the previous notebook, but in general it's very cumbersome and difficult to implement. PyTorch has a nice module `nn` that provides a nice way to efficiently build large neural networks."
      ]
    },
    {
      "cell_type": "code",
      "metadata": {
        "id": "4ztUpchthVd_",
        "colab_type": "code",
        "colab": {}
      },
      "source": [
        "# Import necessary packages\n",
        "\n",
        "%matplotlib inline\n",
        "%config InlineBackend.figure_format = 'retina'\n",
        "\n",
        "import numpy as np\n",
        "import torch\n",
        "\n",
        "import helper\n",
        "\n",
        "import matplotlib.pyplot as plt"
      ],
      "execution_count": 0,
      "outputs": []
    },
    {
      "cell_type": "code",
      "metadata": {
        "id": "8d3iZpN2Nv4F",
        "colab_type": "code",
        "colab": {}
      },
      "source": [
        "def imshow(image, ax=None, title=None, normalize=True):\n",
        "    \"\"\"Imshow for Tensor.\"\"\"\n",
        "    if ax is None:\n",
        "        fig, ax = plt.subplots()\n",
        "    image = image.numpy().transpose((1, 2, 0))\n",
        "\n",
        "    if normalize:\n",
        "        mean = np.array([0.485, 0.456, 0.406])\n",
        "        std = np.array([0.229, 0.224, 0.225])\n",
        "        image = std * image + mean\n",
        "        image = np.clip(image, 0, 1)\n",
        "\n",
        "    ax.imshow(image)\n",
        "    ax.spines['top'].set_visible(False)\n",
        "    ax.spines['right'].set_visible(False)\n",
        "    ax.spines['left'].set_visible(False)\n",
        "    ax.spines['bottom'].set_visible(False)\n",
        "    ax.tick_params(axis='both', length=0)\n",
        "    ax.set_xticklabels('')\n",
        "    ax.set_yticklabels('')\n",
        "\n",
        "    return ax"
      ],
      "execution_count": 0,
      "outputs": []
    },
    {
      "cell_type": "markdown",
      "metadata": {
        "id": "X98A7DpWhVea",
        "colab_type": "text"
      },
      "source": [
        "\n",
        "Now we're going to build a larger network that can solve a (formerly) difficult problem, identifying text in an image. Here we'll use the MNIST dataset which consists of greyscale handwritten digits. Each image is 28x28 pixels, you can see a sample below\n",
        "\n",
        "<img src='assets/mnist.png'>\n",
        "\n",
        "Our goal is to build a neural network that can take one of these images and predict the digit in the image.\n",
        "\n",
        "First up, we need to get our dataset. This is provided through the `torchvision` package. The code below will download the MNIST dataset, then create training and test datasets for us. Don't worry too much about the details here, you'll learn more about this later."
      ]
    },
    {
      "cell_type": "code",
      "metadata": {
        "id": "qdD7RMszhVec",
        "colab_type": "code",
        "colab": {}
      },
      "source": [
        "### Run this cell\n",
        "\n",
        "from torchvision import datasets, transforms\n",
        "\n",
        "# Define a transform to normalize the data\n",
        "transform = transforms.Compose([transforms.ToTensor(),\n",
        "                              transforms.Normalize((0.5,), (0.5,)),\n",
        "                              ])\n",
        "\n",
        "# Download and load the training data\n",
        "trainset = datasets.MNIST('~/.pytorch/MNIST_data/', download=True, train=True, transform=transform)\n",
        "trainloader = torch.utils.data.DataLoader(trainset, batch_size=64, shuffle=True)"
      ],
      "execution_count": 0,
      "outputs": []
    },
    {
      "cell_type": "markdown",
      "metadata": {
        "id": "Si4tKsg_hVek",
        "colab_type": "text"
      },
      "source": [
        "We have the training data loaded into `trainloader` and we make that an iterator with `iter(trainloader)`. Later, we'll use this to loop through the dataset for training, like\n",
        "\n",
        "```python\n",
        "for image, label in trainloader:\n",
        "    ## do things with images and labels\n",
        "```\n",
        "\n",
        "You'll notice I created the `trainloader` with a batch size of 64, and `shuffle=True`. The batch size is the number of images we get in one iteration from the data loader and pass through our network, often called a *batch*. And `shuffle=True` tells it to shuffle the dataset every time we start going through the data loader again. But here I'm just grabbing the first batch so we can check out the data. We can see below that `images` is just a tensor with size `(64, 1, 28, 28)`. So, 64 images per batch, 1 color channel, and 28x28 images."
      ]
    },
    {
      "cell_type": "code",
      "metadata": {
        "id": "-Ldf3oPohVeo",
        "colab_type": "code",
        "outputId": "294b486e-1949-4a04-856d-a12e409f595f",
        "colab": {
          "base_uri": "https://localhost:8080/",
          "height": 68
        }
      },
      "source": [
        "dataiter = iter(trainloader)\n",
        "images, labels = dataiter.next()\n",
        "print(type(images))\n",
        "print(images.shape)\n",
        "print(labels.shape)"
      ],
      "execution_count": 28,
      "outputs": [
        {
          "output_type": "stream",
          "text": [
            "<class 'torch.Tensor'>\n",
            "torch.Size([64, 1, 28, 28])\n",
            "torch.Size([64])\n"
          ],
          "name": "stdout"
        }
      ]
    },
    {
      "cell_type": "markdown",
      "metadata": {
        "id": "ZOb_4WXzhVeu",
        "colab_type": "text"
      },
      "source": [
        "This is what one of the images looks like. "
      ]
    },
    {
      "cell_type": "code",
      "metadata": {
        "id": "2-9v_RxChVez",
        "colab_type": "code",
        "outputId": "c3a843b2-3e38-4c0a-c05e-c21f4df7f0ec",
        "colab": {
          "base_uri": "https://localhost:8080/",
          "height": 265
        }
      },
      "source": [
        "plt.imshow(images[1].numpy().squeeze(), cmap='Greys_r');"
      ],
      "execution_count": 29,
      "outputs": [
        {
          "output_type": "display_data",
          "data": {
            "image/png": "[encoded data removed]",
            "text/plain": [
              "<Figure size 432x288 with 1 Axes>"
            ]
          },
          "metadata": {
            "tags": [],
            "image/png": {
              "width": 251,
              "height": 248
            }
          }
        }
      ]
    },
    {
      "cell_type": "markdown",
      "metadata": {
        "id": "oxIrGoAAhVe7",
        "colab_type": "text"
      },
      "source": [
        "First, let's try to build a simple network for this dataset using weight matrices and matrix multiplications. Then, we'll see how to do it using PyTorch's `nn` module which provides a much more convenient and powerful method for defining network architectures.\n",
        "\n",
        "The networks you've seen so far are called *fully-connected* or *dense* networks. Each unit in one layer is connected to each unit in the next layer. In fully-connected networks, the input to each layer must be a one-dimensional vector (which can be stacked into a 2D tensor as a batch of multiple examples). However, our images are 28x28 2D tensors, so we need to convert them into 1D vectors. Thinking about sizes, we need to convert the batch of images with shape `(64, 1, 28, 28)` to a have a shape of `(64, 784)`, 784 is 28 times 28. This is typically called *flattening*, we flattened the 2D images into 1D vectors.\n",
        "\n",
        "Previously you built a network with one output unit. Here we need 10 output units, one for each digit. We want our network to predict the digit shown in an image, so what we'll do is calculate probabilities that the image is of any one digit or class. This ends up being a discrete probability distribution over the classes (digits) that tells us the most likely class for the image. That means we need 10 output units for the 10 classes (digits). We'll see how to convert the network output into a probability distribution next.\n",
        "\n",
        "> **Exercise:** Flatten the batch of images `images`. Then build a multi-layer network with 784 input units, 256 hidden units, and 10 output units using random tensors for the weights and biases. For now, use a sigmoid activation for the hidden layer. Leave the output layer without an activation, we'll add one that gives us a probability distribution next."
      ]
    },
    {
      "cell_type": "code",
      "metadata": {
        "id": "Qs-vcS7ZhVe9",
        "colab_type": "code",
        "outputId": "d9061d82-d9e5-4993-cff6-dc0e33c94009",
        "colab": {
          "base_uri": "https://localhost:8080/",
          "height": 1000
        }
      },
      "source": [
        "## Your solution\n",
        "def activation(x):\n",
        "  return 1/(1+torch.exp(-x))\n",
        "\n",
        "inputs=images.view(images.shape[0],-1)\n",
        "\n",
        "w1=torch.randn(784,256)\n",
        "b1=torch.randn(256)\n",
        "\n",
        "w2=torch.randn(256,10)\n",
        "b2=torch.randn(10)\n",
        "\n",
        "\n",
        "\n",
        "out = torch.mm(activation(torch.mm(inputs,w1)+b1),w2)+b2\n",
        "out\n",
        "\n",
        "# output of your network, should have shape (64,10)"
      ],
      "execution_count": 30,
      "outputs": [
        {
          "output_type": "execute_result",
          "data": {
            "text/plain": [
              "tensor([[-1.4862e+01, -2.1738e-01, -2.4767e+01,  1.4220e+00,  2.0311e+01,\n",
              "          3.5995e+00, -1.2667e+00, -3.9856e+01,  1.9962e+01,  1.2899e+00],\n",
              "        [ 2.5784e+00, -7.4827e+00, -3.0906e+01,  1.2996e+01,  2.3013e+01,\n",
              "         -2.1960e+00,  1.2558e-01, -3.8363e+01,  1.6185e+01,  7.6582e+00],\n",
              "        [-2.7545e+00, -5.6788e+00, -3.0831e+01, -4.1944e+00,  2.3932e+01,\n",
              "          9.3112e+00, -9.2285e-01, -3.8284e+01,  1.5190e+01,  7.3762e+00],\n",
              "        [ 6.9825e-01, -1.2532e+00, -2.1217e+01,  1.4042e+01,  1.5731e+01,\n",
              "          8.4939e+00, -9.5394e+00, -2.4211e+01,  2.0211e+01,  8.8331e+00],\n",
              "        [-7.7375e+00, -2.8864e+00, -2.8755e+01,  1.0134e+01,  2.1806e+01,\n",
              "         -1.6707e+00, -6.3123e+00, -3.0884e+01,  1.5934e+01,  4.0474e+00],\n",
              "        [-1.3244e+01,  4.8955e+00, -2.6922e+01,  5.9477e+00,  1.1576e+01,\n",
              "         -8.5714e+00, -3.9522e+00, -2.3879e+01,  1.8013e+01,  1.0981e+00],\n",
              "        [-6.5156e+00, -8.5107e-01, -1.9938e+01,  4.0747e+00,  2.0337e+01,\n",
              "          2.2843e+00, -6.2437e+00, -2.6545e+01,  1.5583e+01,  5.4887e+00],\n",
              "        [ 1.5914e-01, -4.9345e+00, -2.9579e+01,  8.9959e+00,  2.2050e+01,\n",
              "         -6.4023e-01, -5.4532e+00, -2.6160e+01,  1.0210e+01,  4.8559e+00],\n",
              "        [-8.4155e+00, -5.9249e+00, -2.2892e+01,  5.0742e+00,  2.4199e+01,\n",
              "          9.7112e+00, -1.0893e+01, -3.6370e+01,  1.3526e+01, -5.5026e-01],\n",
              "        [ 4.3492e-01, -9.3189e-01, -2.8662e+01,  1.2262e+01,  2.8344e+01,\n",
              "          8.6435e-01, -1.2781e+01, -2.0838e+01,  1.3130e+01,  4.3801e+00],\n",
              "        [-1.0336e+01,  2.0514e+00, -3.4327e+01,  2.0098e+00,  1.7198e+01,\n",
              "          7.2663e+00, -8.7719e+00, -2.5570e+01,  1.0189e+01,  1.0874e+01],\n",
              "        [ 1.7087e+00, -9.0402e+00, -2.0881e+01,  7.3628e+00,  2.0536e+01,\n",
              "         -7.1007e+00, -2.7597e+00, -2.7009e+01,  1.9756e+01,  3.6992e+00],\n",
              "        [-6.9554e+00,  1.3561e+00, -3.7953e+01,  3.9615e+00,  2.1717e+01,\n",
              "          8.7276e-01,  1.9646e+00, -1.3044e+01,  1.6979e+01,  6.7337e+00],\n",
              "        [-5.3844e+00, -2.8545e+00, -2.5467e+01,  1.3653e+01,  2.1504e+01,\n",
              "         -7.0162e-01, -8.9328e+00, -2.4454e+01,  1.1934e+01,  9.3155e+00],\n",
              "        [-1.3634e+01, -6.5243e+00, -2.1303e+01,  2.9497e+00,  1.9533e+01,\n",
              "          8.5675e+00, -7.4714e+00, -2.6758e+01,  1.2468e+01,  5.8813e+00],\n",
              "        [-6.4250e+00, -2.7803e+00, -1.6238e+01,  1.1942e+01,  2.0445e+01,\n",
              "          5.1563e+00, -4.3992e+00, -3.5766e+01,  2.4136e+01, -1.1722e-01],\n",
              "        [-6.2992e+00,  5.0530e+00, -3.2000e+01,  1.4637e+01,  8.8829e+00,\n",
              "         -3.1024e+00, -7.7668e-01, -2.8412e+01,  1.4638e+01,  1.1456e+01],\n",
              "        [-1.0553e+01,  2.7017e+00, -2.8968e+01,  2.8966e+00,  1.8771e+01,\n",
              "         -1.2792e+00, -1.4347e+01, -3.4770e+01,  1.1281e+01,  1.1195e+01],\n",
              "        [-1.3732e+01,  2.1507e+00, -1.7598e+01,  9.6227e+00,  1.2203e+01,\n",
              "          2.7123e+00, -5.3140e+00, -3.2573e+01,  2.0590e+01,  4.4061e+00],\n",
              "        [-8.0835e+00, -3.1377e+00, -2.6735e+01,  1.8264e+01,  1.6960e+01,\n",
              "          3.8171e-01, -3.0156e+00, -3.3991e+01,  2.1100e+01,  2.7734e+00],\n",
              "        [-1.0222e+01, -3.0200e+00, -2.5499e+01,  5.7074e+00,  1.8956e+01,\n",
              "         -6.0486e-01, -4.2742e+00, -1.9613e+01,  2.7561e+01,  9.6931e+00],\n",
              "        [ 1.4132e+00, -2.2738e+00, -2.9944e+01,  1.3429e+01,  2.2450e+01,\n",
              "         -1.9380e+00, -6.9195e+00, -3.0940e+01,  9.3809e+00,  1.1416e+01],\n",
              "        [-1.2550e+01,  1.2573e-01, -2.4296e+01,  1.0139e+01,  1.4655e+01,\n",
              "          2.4739e+00, -3.4584e+00, -3.0270e+01,  2.0220e+01,  8.5175e+00],\n",
              "        [ 6.5020e-01, -9.6720e+00, -1.7581e+01,  8.1793e+00,  1.1253e+01,\n",
              "         -7.6754e+00, -8.9768e+00, -2.8256e+01,  2.2837e+01,  3.4386e+00],\n",
              "        [-6.0494e+00,  8.1416e+00, -3.9682e+01,  1.1613e+01,  1.7186e+01,\n",
              "         -2.7088e+00, -8.5876e+00, -3.6016e+01,  2.0189e+01,  1.3240e+01],\n",
              "        [-3.0541e+00,  1.0893e+00, -3.1545e+01,  2.0324e+01,  1.2810e+01,\n",
              "          2.6056e+00, -7.3750e+00, -2.3846e+01,  1.8006e+01,  4.7690e+00],\n",
              "        [-1.9976e+00,  1.5897e+01, -3.0524e+01,  2.2637e+01,  1.8665e+01,\n",
              "         -1.2931e+01, -8.8901e+00, -3.1500e+01,  1.5411e+01,  6.1289e+00],\n",
              "        [-6.8704e+00, -1.7470e+00, -2.4478e+01,  1.6958e+01,  2.0219e+01,\n",
              "         -9.7172e+00, -1.5669e+01, -2.8767e+01,  7.1615e+00,  2.2517e+00],\n",
              "        [-1.2789e+01, -5.2224e+00, -2.4147e+01,  4.7531e-01,  2.2256e+01,\n",
              "         -2.9373e+00, -6.8383e+00, -4.2558e+01,  1.2811e+01,  1.3669e+00],\n",
              "        [ 3.6785e+00, -1.5368e+00, -3.5569e+01, -2.5808e+00,  2.0543e+01,\n",
              "         -3.3241e+00,  4.3977e+00, -2.4118e+01,  1.5470e+01,  1.4781e+01],\n",
              "        [-8.1319e+00, -5.6919e+00, -2.4754e+01,  6.2858e+00,  2.1367e+01,\n",
              "          4.4150e+00, -8.2933e+00, -3.2208e+01,  1.9272e+01,  1.5023e+00],\n",
              "        [-8.5939e+00, -5.7166e+00, -1.9666e+01,  6.1906e+00,  1.1062e+01,\n",
              "         -8.6246e+00, -1.0788e+01, -2.8199e+01,  2.2834e+01,  5.0118e+00],\n",
              "        [-7.6247e+00,  5.8641e+00, -2.7277e+01, -2.2061e+00,  2.7499e+01,\n",
              "         -1.1529e+01, -6.7745e+00, -3.0753e+01,  1.7817e+01,  1.4508e+01],\n",
              "        [-1.4470e+00,  2.0608e+00, -2.0496e+01,  5.6575e+00,  1.7703e+01,\n",
              "         -2.2595e+00, -4.5365e-01, -2.8282e+01,  2.2759e+01,  1.8620e+01],\n",
              "        [-1.5774e+00,  6.9863e+00, -3.1690e+01,  2.1270e+01,  2.7530e+01,\n",
              "         -2.9496e+00, -1.1612e+01, -2.6475e+01,  1.3122e+01,  6.3458e+00],\n",
              "        [-5.8941e+00, -1.8213e+00, -2.9906e+01,  1.3140e+01,  1.9992e+01,\n",
              "          3.0920e+00, -1.1499e+01, -2.8442e+01,  1.3304e+01,  4.0221e+00],\n",
              "        [ 3.2824e+00,  2.6768e+00, -3.1114e+01,  2.8351e+00,  2.3967e+01,\n",
              "          2.7120e+00, -5.7126e+00, -2.3120e+01,  2.1468e+01,  2.5520e+00],\n",
              "        [-4.9698e+00, -5.4725e+00, -2.4782e+01,  2.3406e+01,  2.1015e+01,\n",
              "         -5.3218e-01, -8.9191e+00, -3.4472e+01,  1.9441e+01,  3.9957e+00],\n",
              "        [-2.3801e+00, -1.2800e+00, -2.2661e+01,  1.4002e+01,  1.8740e+01,\n",
              "         -6.2610e+00, -1.3066e+01, -4.1254e+01,  1.7223e+01,  2.1635e+00],\n",
              "        [-8.4372e+00,  5.9076e+00, -3.1412e+01,  5.4603e+00,  1.9402e+01,\n",
              "          4.3865e-02, -1.0788e+01, -2.9073e+01,  8.9971e+00,  4.7696e+00],\n",
              "        [-1.2305e+00,  3.0001e+00, -2.4716e+01,  1.7170e+01,  2.4573e+01,\n",
              "         -2.6908e+00, -1.0058e+01, -2.5111e+01,  1.0059e+01, -5.1557e+00],\n",
              "        [-3.4419e+00, -5.9999e-01, -3.0543e+01, -1.9579e+00,  1.9293e+01,\n",
              "         -3.5223e+00, -6.8549e+00, -3.5477e+01,  1.0799e+01,  3.3357e+00],\n",
              "        [-6.3506e+00,  8.1726e+00, -1.9985e+01,  1.0115e+01,  2.0203e+01,\n",
              "         -8.1807e+00, -6.0435e+00, -1.7113e+01,  2.2299e+01,  7.2578e+00],\n",
              "        [ 5.0166e+00, -2.6769e+00, -2.7558e+01,  1.2595e+01,  2.2363e+01,\n",
              "         -1.3403e+00, -1.2889e+01, -2.5192e+01,  1.1790e+01,  2.4911e+00],\n",
              "        [ 6.9087e+00, -2.8181e+00, -2.5656e+01,  1.4881e+01,  2.1378e+01,\n",
              "          5.4894e+00, -1.0272e+01, -3.0331e+01,  1.4560e+01,  4.8296e+00],\n",
              "        [ 1.1284e+00, -1.7255e+00, -2.4233e+01,  8.2497e+00,  2.5014e+01,\n",
              "         -1.2085e+01, -1.0255e+01, -2.0879e+01,  1.3714e+01,  1.1907e+01],\n",
              "        [-2.5148e+00,  4.9252e+00, -2.2444e+01,  1.9935e+01,  1.9108e+01,\n",
              "         -6.8721e+00, -1.1681e+01, -2.7087e+01,  1.9129e+01,  7.1274e+00],\n",
              "        [-7.4040e+00, -6.8086e-02, -3.1451e+01,  3.7662e+00,  2.1714e+01,\n",
              "         -1.0773e+00, -1.5425e+01, -2.4355e+01,  6.2005e+00,  7.0736e+00],\n",
              "        [-1.0278e+01, -2.4964e+00, -2.2855e+01,  1.4270e+00,  2.1505e+01,\n",
              "          9.4688e+00, -3.6444e+00, -3.8573e+01,  1.8420e+01,  1.4803e+00],\n",
              "        [ 6.4795e+00,  6.5116e+00, -3.3351e+01,  4.5525e+00,  2.6027e+01,\n",
              "         -1.0382e+01, -6.9868e+00, -2.4460e+01,  1.4140e+01,  8.5228e+00],\n",
              "        [-1.2480e+01, -2.1205e+00, -2.7719e+01,  1.2074e+01,  2.9223e+01,\n",
              "          4.2691e+00, -5.9363e+00, -3.2946e+01,  1.3377e+01,  5.4042e-01],\n",
              "        [-5.4717e+00,  3.1679e+00, -2.0580e+01,  8.6185e+00,  2.0629e+01,\n",
              "         -3.2742e+00, -6.3675e+00, -2.3731e+01,  2.2600e+01,  3.2544e+00],\n",
              "        [-2.8206e+00, -3.4928e+00, -3.0710e+01,  1.8751e+01,  2.1079e+01,\n",
              "          3.9778e+00, -6.5555e+00, -3.0976e+01,  1.5618e+01, -6.1622e-01],\n",
              "        [ 5.8955e+00, -2.2243e+00, -2.9075e+01,  1.2494e+00,  1.9609e+01,\n",
              "          5.0218e+00, -1.0325e+01, -2.4536e+01,  8.5518e+00, -1.5649e+00],\n",
              "        [-5.1264e+00,  8.8437e+00, -2.2082e+01,  8.1458e+00,  2.0938e+01,\n",
              "         -2.9158e+00, -1.0423e+01, -2.4876e+01,  1.9405e+01,  8.0598e+00],\n",
              "        [-6.0617e+00,  6.5715e+00, -2.9289e+01,  1.3871e+01,  2.6594e+01,\n",
              "         -3.7120e+00, -8.3280e+00, -3.1455e+01,  1.3327e+01,  5.5099e+00],\n",
              "        [-7.1700e+00, -1.8029e+00, -2.4423e+01,  1.0031e+01,  1.8640e+01,\n",
              "          7.8567e+00, -3.9526e+00, -2.9575e+01,  1.1278e+01, -4.0048e-01],\n",
              "        [-3.6945e+00,  9.8646e-01, -2.9945e+01,  9.6809e+00,  1.7138e+01,\n",
              "          5.9430e+00, -3.0167e+00, -3.2721e+01,  8.9651e+00,  2.8923e+00],\n",
              "        [-1.7563e+01,  3.4123e+00, -3.1814e+01,  9.3494e+00,  2.2442e+01,\n",
              "          2.4354e+00, -7.1513e+00, -3.3391e+01,  2.5705e+01, -6.0713e-01],\n",
              "        [-7.9111e+00,  1.4001e+00, -2.6119e+01, -1.6221e+00,  1.3712e+01,\n",
              "          5.6239e+00, -2.8269e+00, -4.2169e+01,  2.3794e+01,  8.8183e+00],\n",
              "        [-5.2436e+00, -9.6730e+00, -2.0678e+01,  1.1174e+01,  2.0226e+01,\n",
              "          7.5292e+00, -1.7198e+01, -3.3263e+01,  1.9637e+01,  4.9002e-01],\n",
              "        [-4.3172e+00,  4.0071e+00, -2.2621e+01,  5.3908e+00,  1.3945e+01,\n",
              "          1.5063e+00, -3.0737e+00, -2.8484e+01,  2.3491e+01,  6.4291e+00],\n",
              "        [-9.8685e+00, -3.9036e+00, -3.2296e+01,  1.7839e+00,  2.1662e+01,\n",
              "         -1.4375e-01, -8.1463e+00, -4.8543e+01,  2.2985e+01,  1.1465e+01],\n",
              "        [-1.3247e+01,  3.0550e+00, -2.5651e+01,  9.8267e+00,  3.0295e+01,\n",
              "          2.1892e+00, -6.4111e+00, -3.3305e+01,  1.3886e+01,  9.1095e-01]])"
            ]
          },
          "metadata": {
            "tags": []
          },
          "execution_count": 30
        }
      ]
    },
    {
      "cell_type": "markdown",
      "metadata": {
        "id": "xAkBe76hhVfG",
        "colab_type": "text"
      },
      "source": [
        "Now we have 10 outputs for our network. We want to pass in an image to our network and get out a probability distribution over the classes that tells us the likely class(es) the image belongs to. Something that looks like this:\n",
        "<img src='assets/image_distribution.png' width=500px>\n",
        "\n",
        "Here we see that the probability for each class is roughly the same. This is representing an untrained network, it hasn't seen any data yet so it just returns a uniform distribution with equal probabilities for each class.\n",
        "\n",
        "To calculate this probability distribution, we often use the [**softmax** function](https://en.wikipedia.org/wiki/Softmax_function). Mathematically this looks like\n",
        "\n",
        "$$\n",
        "\\Large \\sigma(x_i) = \\cfrac{e^{x_i}}{\\sum_k^K{e^{x_k}}}\n",
        "$$\n",
        "\n",
        "What this does is squish each input $x_i$ between 0 and 1 and normalizes the values to give you a proper probability distribution where the probabilites sum up to one.\n",
        "\n",
        "> **Exercise:** Implement a function `softmax` that performs the softmax calculation and returns probability distributions for each example in the batch. Note that you'll need to pay attention to the shapes when doing this. If you have a tensor `a` with shape `(64, 10)` and a tensor `b` with shape `(64,)`, doing `a/b` will give you an error because PyTorch will try to do the division across the columns (called broadcasting) but you'll get a size mismatch. The way to think about this is for each of the 64 examples, you only want to divide by one value, the sum in the denominator. So you need `b` to have a shape of `(64, 1)`. This way PyTorch will divide the 10 values in each row of `a` by the one value in each row of `b`. Pay attention to how you take the sum as well. You'll need to define the `dim` keyword in `torch.sum`. Setting `dim=0` takes the sum across the rows while `dim=1` takes the sum across the columns."
      ]
    },
    {
      "cell_type": "code",
      "metadata": {
        "id": "-VC827dohVfJ",
        "colab_type": "code",
        "outputId": "367ac14e-7505-49fe-f661-0708e2da7030",
        "colab": {
          "base_uri": "https://localhost:8080/",
          "height": 170
        }
      },
      "source": [
        "def softmax(x):\n",
        "  return torch.exp(x)/(torch.sum(torch.exp(x),dim=1)).view(-1,1)\n",
        "    ## TODO: Implement the softmax function here\n",
        "\n",
        "# Here, out should be the output of the network in the previous excercise with shape (64,10)\n",
        "probabilities = softmax(out)\n",
        "\n",
        "# Does it have the right shape? Should be (64, 10)\n",
        "print(probabilities.shape)\n",
        "# Does it sum to 1?\n",
        "print(probabilities.sum(dim=1))"
      ],
      "execution_count": 31,
      "outputs": [
        {
          "output_type": "stream",
          "text": [
            "torch.Size([64, 10])\n",
            "tensor([1.0000, 1.0000, 1.0000, 1.0000, 1.0000, 1.0000, 1.0000, 1.0000, 1.0000,\n",
            "        1.0000, 1.0000, 1.0000, 1.0000, 1.0000, 1.0000, 1.0000, 1.0000, 1.0000,\n",
            "        1.0000, 1.0000, 1.0000, 1.0000, 1.0000, 1.0000, 1.0000, 1.0000, 1.0000,\n",
            "        1.0000, 1.0000, 1.0000, 1.0000, 1.0000, 1.0000, 1.0000, 1.0000, 1.0000,\n",
            "        1.0000, 1.0000, 1.0000, 1.0000, 1.0000, 1.0000, 1.0000, 1.0000, 1.0000,\n",
            "        1.0000, 1.0000, 1.0000, 1.0000, 1.0000, 1.0000, 1.0000, 1.0000, 1.0000,\n",
            "        1.0000, 1.0000, 1.0000, 1.0000, 1.0000, 1.0000, 1.0000, 1.0000, 1.0000,\n",
            "        1.0000])\n"
          ],
          "name": "stdout"
        }
      ]
    },
    {
      "cell_type": "markdown",
      "metadata": {
        "id": "8hfjifoUhVfQ",
        "colab_type": "text"
      },
      "source": [
        "## Building networks with PyTorch\n",
        "\n",
        "PyTorch provides a module `nn` that makes building networks much simpler. Here I'll show you how to build the same one as above with 784 inputs, 256 hidden units, 10 output units and a softmax output."
      ]
    },
    {
      "cell_type": "code",
      "metadata": {
        "id": "kALl2dSGhVfT",
        "colab_type": "code",
        "colab": {}
      },
      "source": [
        "from torch import nn"
      ],
      "execution_count": 0,
      "outputs": []
    },
    {
      "cell_type": "code",
      "metadata": {
        "id": "LfP_ETlthVfc",
        "colab_type": "code",
        "colab": {}
      },
      "source": [
        "class Network(nn.Module):\n",
        "    def __init__(self):\n",
        "        super().__init__()\n",
        "        \n",
        "        # Inputs to hidden layer linear transformation\n",
        "        self.hidden = nn.Linear(784, 256)\n",
        "        # Output layer, 10 units - one for each digit\n",
        "        self.output = nn.Linear(256, 10)\n",
        "        \n",
        "        # Define sigmoid activation and softmax output \n",
        "        self.sigmoid = nn.Sigmoid()\n",
        "        self.softmax = nn.Softmax(dim=1)\n",
        "        \n",
        "    def forward(self, x):\n",
        "        # Pass the input tensor through each of our operations\n",
        "        x = self.hidden(x)\n",
        "        x = self.sigmoid(x)\n",
        "        x = self.output(x)\n",
        "        x = self.softmax(x)\n",
        "        \n",
        "        return x"
      ],
      "execution_count": 0,
      "outputs": []
    },
    {
      "cell_type": "markdown",
      "metadata": {
        "id": "TMgFaFtFhVfw",
        "colab_type": "text"
      },
      "source": [
        "Let's go through this bit by bit.\n",
        "\n",
        "```python\n",
        "class Network(nn.Module):\n",
        "```\n",
        "\n",
        "Here we're inheriting from `nn.Module`. Combined with `super().__init__()` this creates a class that tracks the architecture and provides a lot of useful methods and attributes. It is mandatory to inherit from `nn.Module` when you're creating a class for your network. The name of the class itself can be anything.\n",
        "\n",
        "```python\n",
        "self.hidden = nn.Linear(784, 256)\n",
        "```\n",
        "\n",
        "This line creates a module for a linear transformation, $x\\mathbf{W} + b$, with 784 inputs and 256 outputs and assigns it to `self.hidden`. The module automatically creates the weight and bias tensors which we'll use in the `forward` method. You can access the weight and bias tensors once the network (`net`) is created with `net.hidden.weight` and `net.hidden.bias`.\n",
        "\n",
        "```python\n",
        "self.output = nn.Linear(256, 10)\n",
        "```\n",
        "\n",
        "Similarly, this creates another linear transformation with 256 inputs and 10 outputs.\n",
        "\n",
        "```python\n",
        "self.sigmoid = nn.Sigmoid()\n",
        "self.softmax = nn.Softmax(dim=1)\n",
        "```\n",
        "\n",
        "Here I defined operations for the sigmoid activation and softmax output. Setting `dim=1` in `nn.Softmax(dim=1)` calculates softmax across the columns.\n",
        "\n",
        "```python\n",
        "def forward(self, x):\n",
        "```\n",
        "\n",
        "PyTorch networks created with `nn.Module` must have a `forward` method defined. It takes in a tensor `x` and passes it through the operations you defined in the `__init__` method.\n",
        "\n",
        "```python\n",
        "x = self.hidden(x)\n",
        "x = self.sigmoid(x)\n",
        "x = self.output(x)\n",
        "x = self.softmax(x)\n",
        "```\n",
        "\n",
        "Here the input tensor `x` is passed through each operation and reassigned to `x`. We can see that the input tensor goes through the hidden layer, then a sigmoid function, then the output layer, and finally the softmax function. It doesn't matter what you name the variables here, as long as the inputs and outputs of the operations match the network architecture you want to build. The order in which you define things in the `__init__` method doesn't matter, but you'll need to sequence the operations correctly in the `forward` method.\n",
        "\n",
        "Now we can create a `Network` object."
      ]
    },
    {
      "cell_type": "code",
      "metadata": {
        "id": "FwRPMRuWhVf0",
        "colab_type": "code",
        "outputId": "b6825a5f-cf80-440c-8fb1-5616420443c9",
        "colab": {
          "base_uri": "https://localhost:8080/",
          "height": 119
        }
      },
      "source": [
        "# Create the network and look at it's text representation\n",
        "model = Network()\n",
        "model"
      ],
      "execution_count": 34,
      "outputs": [
        {
          "output_type": "execute_result",
          "data": {
            "text/plain": [
              "Network(\n",
              "  (hidden): Linear(in_features=784, out_features=256, bias=True)\n",
              "  (output): Linear(in_features=256, out_features=10, bias=True)\n",
              "  (sigmoid): Sigmoid()\n",
              "  (softmax): Softmax(dim=1)\n",
              ")"
            ]
          },
          "metadata": {
            "tags": []
          },
          "execution_count": 34
        }
      ]
    },
    {
      "cell_type": "markdown",
      "metadata": {
        "id": "_gDN2C07hVf-",
        "colab_type": "text"
      },
      "source": [
        "You can define the network somewhat more concisely and clearly using the `torch.nn.functional` module. This is the most common way you'll see networks defined as many operations are simple element-wise functions. We normally import this module as `F`, `import torch.nn.functional as F`."
      ]
    },
    {
      "cell_type": "code",
      "metadata": {
        "id": "RwqvMXe5hVgA",
        "colab_type": "code",
        "colab": {}
      },
      "source": [
        "import torch.nn.functional as F\n",
        "\n",
        "class Network(nn.Module):\n",
        "    def __init__(self):\n",
        "        super().__init__()\n",
        "        # Inputs to hidden layer linear transformation\n",
        "        self.hidden = nn.Linear(784, 256)\n",
        "        # Output layer, 10 units - one for each digit\n",
        "        self.output = nn.Linear(256, 10)\n",
        "        \n",
        "    def forward(self, x):\n",
        "        # Hidden layer with sigmoid activation\n",
        "        x = F.sigmoid(self.hidden(x))\n",
        "        # Output layer with softmax activation\n",
        "        x = F.softmax(self.output(x), dim=1)\n",
        "        \n",
        "        return x"
      ],
      "execution_count": 0,
      "outputs": []
    },
    {
      "cell_type": "markdown",
      "metadata": {
        "id": "USaRM1IxhVgK",
        "colab_type": "text"
      },
      "source": [
        "### Activation functions\n",
        "\n",
        "So far we've only been looking at the sigmoid activation function, but in general any function can be used as an activation function. The only requirement is that for a network to approximate a non-linear function, the activation functions must be non-linear. Here are a few more examples of common activation functions: Tanh (hyperbolic tangent), and ReLU (rectified linear unit).\n",
        "\n",
        "<img src=\"assets/activation.png\" width=700px>\n",
        "\n",
        "In practice, the ReLU function is used almost exclusively as the activation function for hidden layers."
      ]
    },
    {
      "cell_type": "markdown",
      "metadata": {
        "id": "xOvYx8uFhVgL",
        "colab_type": "text"
      },
      "source": [
        "### Your Turn to Build a Network\n",
        "\n",
        "<img src=\"assets/mlp_mnist.png\" width=600px>\n",
        "\n",
        "> **Exercise:** Create a network with 784 input units, a hidden layer with 128 units and a ReLU activation, then a hidden layer with 64 units and a ReLU activation, and finally an output layer with a softmax activation as shown above. You can use a ReLU activation with the `nn.ReLU` module or `F.relu` function.\n",
        "\n",
        "It's good practice to name your layers by their type of network, for instance 'fc' to represent a fully-connected layer. As you code your solution, use `fc1`, `fc2`, and `fc3` as your layer names."
      ]
    },
    {
      "cell_type": "code",
      "metadata": {
        "scrolled": true,
        "id": "-OcraqbuhVgO",
        "colab_type": "code",
        "outputId": "8f0a4f54-1f72-4cfe-9674-14d007fb6ea7",
        "colab": {
          "base_uri": "https://localhost:8080/",
          "height": 102
        }
      },
      "source": [
        "## Your solution here\n",
        "import torch.nn.functional as F\n",
        "\n",
        "class Network(nn.Module):\n",
        "  def __init__(self):\n",
        "    super().__init__()\n",
        "    self.fc1=nn.Linear(784,128)\n",
        "    self.fc2=nn.Linear(128,64)\n",
        "    self.fc3=nn.Linear(64,10)\n",
        "\n",
        "  def forward(self,x):\n",
        "    x=self.fc1(x)\n",
        "    x=F.relu(x)\n",
        "    x=self.fc2(x)\n",
        "    x=F.relu(x)\n",
        "    x=self.fc3(x)\n",
        "    x=F.softmax(x,dim=1)\n",
        "    \n",
        "    return x;\n",
        "\n",
        "model= Network()\n",
        "model\n",
        "\n"
      ],
      "execution_count": 36,
      "outputs": [
        {
          "output_type": "execute_result",
          "data": {
            "text/plain": [
              "Network(\n",
              "  (fc1): Linear(in_features=784, out_features=128, bias=True)\n",
              "  (fc2): Linear(in_features=128, out_features=64, bias=True)\n",
              "  (fc3): Linear(in_features=64, out_features=10, bias=True)\n",
              ")"
            ]
          },
          "metadata": {
            "tags": []
          },
          "execution_count": 36
        }
      ]
    },
    {
      "cell_type": "markdown",
      "metadata": {
        "id": "wTG0nG0FhVgT",
        "colab_type": "text"
      },
      "source": [
        "### Initializing weights and biases\n",
        "\n",
        "The weights and such are automatically initialized for you, but it's possible to customize how they are initialized. The weights and biases are tensors attached to the layer you defined, you can get them with `model.fc1.weight` for instance."
      ]
    },
    {
      "cell_type": "code",
      "metadata": {
        "id": "M132TjkPhVgX",
        "colab_type": "code",
        "outputId": "29e98607-9c95-4c7e-86d0-d9957e9e4e4e",
        "colab": {
          "base_uri": "https://localhost:8080/",
          "height": 476
        }
      },
      "source": [
        "print(model.fc1.weight)\n",
        "print(model.fc1.bias)"
      ],
      "execution_count": 37,
      "outputs": [
        {
          "output_type": "stream",
          "text": [
            "Parameter containing:\n",
            "tensor([[ 0.0018, -0.0015, -0.0166,  ..., -0.0158, -0.0257, -0.0011],\n",
            "        [ 0.0349,  0.0064,  0.0160,  ...,  0.0012, -0.0173, -0.0216],\n",
            "        [-0.0007,  0.0277, -0.0230,  ..., -0.0035, -0.0017,  0.0103],\n",
            "        ...,\n",
            "        [ 0.0251,  0.0204,  0.0026,  ...,  0.0252, -0.0209,  0.0053],\n",
            "        [ 0.0054,  0.0152,  0.0121,  ..., -0.0192, -0.0282, -0.0040],\n",
            "        [-0.0352, -0.0191,  0.0060,  ..., -0.0173,  0.0338,  0.0040]],\n",
            "       requires_grad=True)\n",
            "Parameter containing:\n",
            "tensor([-0.0154, -0.0230,  0.0071,  0.0156, -0.0027,  0.0215, -0.0248, -0.0149,\n",
            "        -0.0089, -0.0096,  0.0190,  0.0255, -0.0074, -0.0068,  0.0177, -0.0175,\n",
            "        -0.0042,  0.0073,  0.0128,  0.0119,  0.0253, -0.0084,  0.0123, -0.0285,\n",
            "        -0.0293,  0.0209, -0.0215,  0.0243, -0.0196,  0.0284,  0.0061, -0.0270,\n",
            "        -0.0019, -0.0057, -0.0313, -0.0079,  0.0007, -0.0259,  0.0210, -0.0252,\n",
            "         0.0198,  0.0056, -0.0249, -0.0333, -0.0350,  0.0233,  0.0238, -0.0079,\n",
            "         0.0288,  0.0187, -0.0279,  0.0090,  0.0124, -0.0328,  0.0338, -0.0019,\n",
            "        -0.0275,  0.0270, -0.0284,  0.0134, -0.0168, -0.0156,  0.0328,  0.0007,\n",
            "         0.0067, -0.0120, -0.0250,  0.0013,  0.0140,  0.0270, -0.0174,  0.0197,\n",
            "        -0.0301, -0.0330, -0.0343,  0.0199, -0.0164, -0.0254, -0.0274,  0.0085,\n",
            "         0.0008, -0.0277,  0.0315,  0.0213, -0.0125, -0.0287, -0.0115, -0.0084,\n",
            "         0.0032,  0.0101, -0.0259, -0.0125,  0.0010, -0.0170, -0.0121, -0.0329,\n",
            "         0.0335, -0.0090,  0.0053,  0.0117,  0.0213,  0.0098, -0.0356,  0.0172,\n",
            "        -0.0148,  0.0151,  0.0255, -0.0151, -0.0319, -0.0161,  0.0081, -0.0117,\n",
            "        -0.0044, -0.0234, -0.0303, -0.0093,  0.0346,  0.0154, -0.0229,  0.0009,\n",
            "        -0.0347, -0.0032, -0.0294,  0.0144,  0.0060,  0.0284, -0.0247, -0.0245],\n",
            "       requires_grad=True)\n"
          ],
          "name": "stdout"
        }
      ]
    },
    {
      "cell_type": "markdown",
      "metadata": {
        "id": "U2aFm6KchVge",
        "colab_type": "text"
      },
      "source": [
        "For custom initialization, we want to modify these tensors in place. These are actually autograd *Variables*, so we need to get back the actual tensors with `model.fc1.weight.data`. Once we have the tensors, we can fill them with zeros (for biases) or random normal values."
      ]
    },
    {
      "cell_type": "code",
      "metadata": {
        "id": "0cIW2aIQhVgf",
        "colab_type": "code",
        "outputId": "4972a1f5-98c8-4f61-ba65-11fb10634b46",
        "colab": {
          "base_uri": "https://localhost:8080/",
          "height": 119
        }
      },
      "source": [
        "# Set biases to all zeros\n",
        "model.fc1.bias.data.fill_(0)"
      ],
      "execution_count": 38,
      "outputs": [
        {
          "output_type": "execute_result",
          "data": {
            "text/plain": [
              "tensor([0., 0., 0., 0., 0., 0., 0., 0., 0., 0., 0., 0., 0., 0., 0., 0., 0., 0., 0., 0., 0., 0., 0., 0.,\n",
              "        0., 0., 0., 0., 0., 0., 0., 0., 0., 0., 0., 0., 0., 0., 0., 0., 0., 0., 0., 0., 0., 0., 0., 0.,\n",
              "        0., 0., 0., 0., 0., 0., 0., 0., 0., 0., 0., 0., 0., 0., 0., 0., 0., 0., 0., 0., 0., 0., 0., 0.,\n",
              "        0., 0., 0., 0., 0., 0., 0., 0., 0., 0., 0., 0., 0., 0., 0., 0., 0., 0., 0., 0., 0., 0., 0., 0.,\n",
              "        0., 0., 0., 0., 0., 0., 0., 0., 0., 0., 0., 0., 0., 0., 0., 0., 0., 0., 0., 0., 0., 0., 0., 0.,\n",
              "        0., 0., 0., 0., 0., 0., 0., 0.])"
            ]
          },
          "metadata": {
            "tags": []
          },
          "execution_count": 38
        }
      ]
    },
    {
      "cell_type": "code",
      "metadata": {
        "id": "vxvUil1NhVgl",
        "colab_type": "code",
        "outputId": "25c559b2-8131-43b9-9b71-6502a11e26f3",
        "colab": {
          "base_uri": "https://localhost:8080/",
          "height": 136
        }
      },
      "source": [
        "# sample from random normal with standard dev = 0.01\n",
        "model.fc1.weight.data.normal_(std=0.01)"
      ],
      "execution_count": 39,
      "outputs": [
        {
          "output_type": "execute_result",
          "data": {
            "text/plain": [
              "tensor([[-0.0071,  0.0049,  0.0112,  ..., -0.0108,  0.0024,  0.0013],\n",
              "        [ 0.0004, -0.0154, -0.0016,  ...,  0.0033,  0.0140,  0.0014],\n",
              "        [ 0.0046,  0.0189, -0.0079,  ..., -0.0067, -0.0010,  0.0133],\n",
              "        ...,\n",
              "        [-0.0047, -0.0230,  0.0083,  ...,  0.0088, -0.0043,  0.0130],\n",
              "        [-0.0072, -0.0073, -0.0112,  ...,  0.0023, -0.0020,  0.0121],\n",
              "        [-0.0059, -0.0032,  0.0034,  ..., -0.0021, -0.0068, -0.0127]])"
            ]
          },
          "metadata": {
            "tags": []
          },
          "execution_count": 39
        }
      ]
    },
    {
      "cell_type": "markdown",
      "metadata": {
        "id": "EKYFz1HRhVgt",
        "colab_type": "text"
      },
      "source": [
        "### Forward pass\n",
        "\n",
        "Now that we have a network, let's see what happens when we pass in an image."
      ]
    },
    {
      "cell_type": "code",
      "metadata": {
        "id": "CgWmT7ZehVgv",
        "colab_type": "code",
        "outputId": "7abb4e8e-0487-4631-b4fd-fcb04b38e127",
        "colab": {
          "base_uri": "https://localhost:8080/",
          "height": 265
        }
      },
      "source": [
        "# Grab some data \n",
        "dataiter = iter(trainloader)\n",
        "images, labels = dataiter.next()\n",
        "\n",
        "# Resize images into a 1D vector, new shape is (batch size, color channels, image pixels) \n",
        "images.resize_(64, 1, 784)\n",
        "# or images.resize_(images.shape[0], 1, 784) to automatically get batch size\n",
        "\n",
        "# Forward pass through the network\n",
        "img_idx = 0\n",
        "ps = model.forward(images[img_idx,:])\n",
        "\n",
        "img = images[img_idx]\n",
        "imshow(images[0].view(1, 28, 28))"
      ],
      "execution_count": 40,
      "outputs": [
        {
          "output_type": "execute_result",
          "data": {
            "text/plain": [
              "<matplotlib.axes._subplots.AxesSubplot at 0x7f54a7ea3828>"
            ]
          },
          "metadata": {
            "tags": []
          },
          "execution_count": 40
        },
        {
          "output_type": "display_data",
          "data": {
            "image/png": "[encoded data removed]",
            "text/plain": [
              "<Figure size 432x288 with 1 Axes>"
            ]
          },
          "metadata": {
            "tags": [],
            "image/png": {
              "width": 231,
              "height": 231
            }
          }
        }
      ]
    },
    {
      "cell_type": "markdown",
      "metadata": {
        "id": "7_SI2A8_hVg6",
        "colab_type": "text"
      },
      "source": [
        "As you can see above, our network has basically no idea what this digit is. It's because we haven't trained it yet, all the weights are random!\n",
        "\n",
        "### Using `nn.Sequential`\n",
        "\n",
        "PyTorch provides a convenient way to build networks like this where a tensor is passed sequentially through operations, `nn.Sequential` ([documentation](https://pytorch.org/docs/master/nn.html#torch.nn.Sequential)). Using this to build the equivalent network:"
      ]
    },
    {
      "cell_type": "code",
      "metadata": {
        "id": "Nz-MDTs0hVhA",
        "colab_type": "code",
        "outputId": "155a871e-cc9a-452a-fcd3-0a2befd9f06f",
        "colab": {
          "base_uri": "https://localhost:8080/",
          "height": 401
        }
      },
      "source": [
        "# Hyperparameters for our network\n",
        "input_size = 784\n",
        "hidden_sizes = [128, 64]\n",
        "output_size = 10\n",
        "\n",
        "# Build a feed-forward network\n",
        "model = nn.Sequential(nn.Linear(input_size, hidden_sizes[0]),\n",
        "                      nn.ReLU(),\n",
        "                      nn.Linear(hidden_sizes[0], hidden_sizes[1]),\n",
        "                      nn.ReLU(),\n",
        "                      nn.Linear(hidden_sizes[1], output_size),\n",
        "                      nn.Softmax(dim=1))\n",
        "print(model)\n",
        "\n",
        "# Forward pass through the network and display output\n",
        "images, labels = next(iter(trainloader))\n",
        "images.resize_(images.shape[0], 1, 784)\n",
        "ps = model.forward(images[0,:])\n",
        "imshow(images[0].view(1, 28, 28))"
      ],
      "execution_count": 41,
      "outputs": [
        {
          "output_type": "stream",
          "text": [
            "Sequential(\n",
            "  (0): Linear(in_features=784, out_features=128, bias=True)\n",
            "  (1): ReLU()\n",
            "  (2): Linear(in_features=128, out_features=64, bias=True)\n",
            "  (3): ReLU()\n",
            "  (4): Linear(in_features=64, out_features=10, bias=True)\n",
            "  (5): Softmax(dim=1)\n",
            ")\n"
          ],
          "name": "stdout"
        },
        {
          "output_type": "execute_result",
          "data": {
            "text/plain": [
              "<matplotlib.axes._subplots.AxesSubplot at 0x7f54a7dcd9e8>"
            ]
          },
          "metadata": {
            "tags": []
          },
          "execution_count": 41
        },
        {
          "output_type": "display_data",
          "data": {
            "image/png": "[encoded data removed]",
            "text/plain": [
              "<Figure size 432x288 with 1 Axes>"
            ]
          },
          "metadata": {
            "tags": [],
            "image/png": {
              "width": 231,
              "height": 231
            }
          }
        }
      ]
    },
    {
      "cell_type": "markdown",
      "metadata": {
        "id": "PpEirkrchVhM",
        "colab_type": "text"
      },
      "source": [
        "Here our model is the same as before: 784 input units, a hidden layer with 128 units, ReLU activation, 64 unit hidden layer, another ReLU, then the output layer with 10 units, and the softmax output.\n",
        "\n",
        "The operations are available by passing in the appropriate index. For example, if you want to get first Linear operation and look at the weights, you'd use `model[0]`."
      ]
    },
    {
      "cell_type": "code",
      "metadata": {
        "id": "5QK3bwGVhVhO",
        "colab_type": "code",
        "outputId": "91c2af68-64b0-462b-d254-44e9c4ab689d",
        "colab": {
          "base_uri": "https://localhost:8080/",
          "height": 187
        }
      },
      "source": [
        "print(model[0])\n",
        "model[0].weight"
      ],
      "execution_count": 42,
      "outputs": [
        {
          "output_type": "stream",
          "text": [
            "Linear(in_features=784, out_features=128, bias=True)\n"
          ],
          "name": "stdout"
        },
        {
          "output_type": "execute_result",
          "data": {
            "text/plain": [
              "Parameter containing:\n",
              "tensor([[ 0.0045,  0.0147, -0.0293,  ...,  0.0090, -0.0076, -0.0097],\n",
              "        [ 0.0223, -0.0144, -0.0254,  ..., -0.0343,  0.0061, -0.0086],\n",
              "        [-0.0219,  0.0328, -0.0256,  ..., -0.0121, -0.0053, -0.0201],\n",
              "        ...,\n",
              "        [ 0.0337,  0.0129, -0.0301,  ..., -0.0245,  0.0124, -0.0187],\n",
              "        [ 0.0257, -0.0354, -0.0249,  ...,  0.0235,  0.0273,  0.0303],\n",
              "        [-0.0223,  0.0223, -0.0072,  ...,  0.0278, -0.0218,  0.0045]],\n",
              "       requires_grad=True)"
            ]
          },
          "metadata": {
            "tags": []
          },
          "execution_count": 42
        }
      ]
    },
    {
      "cell_type": "markdown",
      "metadata": {
        "id": "gvZ6ztyhhVhU",
        "colab_type": "text"
      },
      "source": [
        "You can also pass in an `OrderedDict` to name the individual layers and operations, instead of using incremental integers. Note that dictionary keys must be unique, so _each operation must have a different name_."
      ]
    },
    {
      "cell_type": "code",
      "metadata": {
        "id": "MEzbdAFRhVhW",
        "colab_type": "code",
        "outputId": "069a0697-6265-459f-fef8-89a9f482812c",
        "colab": {
          "base_uri": "https://localhost:8080/",
          "height": 153
        }
      },
      "source": [
        "from collections import OrderedDict\n",
        "model = nn.Sequential(OrderedDict([\n",
        "                      ('fc1', nn.Linear(input_size, hidden_sizes[0])),\n",
        "                      ('relu1', nn.ReLU()),\n",
        "                      ('fc2', nn.Linear(hidden_sizes[0], hidden_sizes[1])),\n",
        "                      ('relu2', nn.ReLU()),\n",
        "                      ('output', nn.Linear(hidden_sizes[1], output_size)),\n",
        "                      ('softmax', nn.Softmax(dim=1))]))\n",
        "model"
      ],
      "execution_count": 43,
      "outputs": [
        {
          "output_type": "execute_result",
          "data": {
            "text/plain": [
              "Sequential(\n",
              "  (fc1): Linear(in_features=784, out_features=128, bias=True)\n",
              "  (relu1): ReLU()\n",
              "  (fc2): Linear(in_features=128, out_features=64, bias=True)\n",
              "  (relu2): ReLU()\n",
              "  (output): Linear(in_features=64, out_features=10, bias=True)\n",
              "  (softmax): Softmax(dim=1)\n",
              ")"
            ]
          },
          "metadata": {
            "tags": []
          },
          "execution_count": 43
        }
      ]
    },
    {
      "cell_type": "markdown",
      "metadata": {
        "id": "4hd4_T_xhVhf",
        "colab_type": "text"
      },
      "source": [
        "Now you can access layers either by integer or the name"
      ]
    },
    {
      "cell_type": "code",
      "metadata": {
        "id": "tESfkjLphVhg",
        "colab_type": "code",
        "outputId": "36ecf77f-9d21-4cb8-8a2b-d719b4c58b2b",
        "colab": {
          "base_uri": "https://localhost:8080/",
          "height": 51
        }
      },
      "source": [
        "print(model[0])\n",
        "print(model.fc1)"
      ],
      "execution_count": 44,
      "outputs": [
        {
          "output_type": "stream",
          "text": [
            "Linear(in_features=784, out_features=128, bias=True)\n",
            "Linear(in_features=784, out_features=128, bias=True)\n"
          ],
          "name": "stdout"
        }
      ]
    },
    {
      "cell_type": "markdown",
      "metadata": {
        "id": "MV_iJiBAhVhm",
        "colab_type": "text"
      },
      "source": [
        "In the next notebook, we'll see how we can train a neural network to accuractly predict the numbers appearing in the MNIST images."
      ]
    },
    {
      "cell_type": "code",
      "metadata": {
        "id": "oaEZ3-j8aQYA",
        "colab_type": "code",
        "colab": {}
      },
      "source": [
        ""
      ],
      "execution_count": 0,
      "outputs": []
    }
  ]
}