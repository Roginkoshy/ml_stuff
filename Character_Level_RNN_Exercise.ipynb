{
  "nbformat": 4,
  "nbformat_minor": 0,
  "metadata": {
    "kernelspec": {
      "display_name": "Python [default]",
      "language": "python",
      "name": "python3"
    },
    "language_info": {
      "codemirror_mode": {
        "name": "ipython",
        "version": 3
      },
      "file_extension": ".py",
      "mimetype": "text/x-python",
      "name": "python",
      "nbconvert_exporter": "python",
      "pygments_lexer": "ipython3",
      "version": "3.6.4"
    },
    "colab": {
      "name": "Character_Level_RNN_Exercise.ipynb",
      "provenance": []
    },
    "accelerator": "GPU"
  },
  "cells": [
    {
      "cell_type": "markdown",
      "metadata": {
        "id": "0EnSx_VvkeAT",
        "colab_type": "text"
      },
      "source": [
        "# Character-Level LSTM in PyTorch\n",
        "\n",
        "In this notebook, I'll construct a character-level LSTM with PyTorch. The network will train character by character on some text, then generate new text character by character. As an example, I will train on Anna Karenina. **This model will be able to generate new text based on the text from the book!**\n",
        "\n",
        "This network is based off of Andrej Karpathy's [post on RNNs](http://karpathy.github.io/2015/05/21/rnn-effectiveness/) and [implementation in Torch](https://github.com/karpathy/char-rnn). Below is the general architecture of the character-wise RNN.\n",
        "\n",
        "<img src=\"assets/charseq.jpeg\" width=\"500\">"
      ]
    },
    {
      "cell_type": "markdown",
      "metadata": {
        "id": "2vzlQdmckeAY",
        "colab_type": "text"
      },
      "source": [
        "First let's load in our required resources for data loading and model creation."
      ]
    },
    {
      "cell_type": "code",
      "metadata": {
        "id": "5fUPwwlfkeAc",
        "colab_type": "code",
        "colab": {}
      },
      "source": [
        "import numpy as np\n",
        "import torch\n",
        "from torch import nn\n",
        "import torch.nn.functional as F"
      ],
      "execution_count": 3,
      "outputs": []
    },
    {
      "cell_type": "markdown",
      "metadata": {
        "id": "zBTUzzHdkeA5",
        "colab_type": "text"
      },
      "source": [
        "## Load in Data\n",
        "\n",
        "Then, we'll load the Anna Karenina text file and convert it into integers for our network to use. "
      ]
    },
    {
      "cell_type": "code",
      "metadata": {
        "id": "ltdDE5K8keA8",
        "colab_type": "code",
        "colab": {}
      },
      "source": [
        "# open text file and read in data as `text`\n",
        "with open('/content/anna.txt', 'r') as f:\n",
        "    text = f.read()"
      ],
      "execution_count": 4,
      "outputs": []
    },
    {
      "cell_type": "markdown",
      "metadata": {
        "id": "A0XRCSzfkeBP",
        "colab_type": "text"
      },
      "source": [
        "Let's check out the first 100 characters, make sure everything is peachy. According to the [American Book Review](http://americanbookreview.org/100bestlines.asp), this is the 6th best first line of a book ever."
      ]
    },
    {
      "cell_type": "code",
      "metadata": {
        "id": "JjgJ6QgQkeBT",
        "colab_type": "code",
        "colab": {
          "base_uri": "https://localhost:8080/",
          "height": 35
        },
        "outputId": "a8f92762-b4ff-4bfa-e439-4fb9ee2a44f2"
      },
      "source": [
        "text[:100]"
      ],
      "execution_count": 5,
      "outputs": [
        {
          "output_type": "execute_result",
          "data": {
            "application/vnd.google.colaboratory.intrinsic": {
              "type": "string"
            },
            "text/plain": [
              "'Chapter 1\\n\\n\\nHappy families are all alike; every unhappy family is unhappy in its own\\nway.\\n\\nEverythin'"
            ]
          },
          "metadata": {
            "tags": []
          },
          "execution_count": 5
        }
      ]
    },
    {
      "cell_type": "markdown",
      "metadata": {
        "id": "nGV6CxPjkeBk",
        "colab_type": "text"
      },
      "source": [
        "### Tokenization\n",
        "\n",
        "In the cells, below, I'm creating a couple **dictionaries** to convert the characters to and from integers. Encoding the characters as integers makes it easier to use as input in the network."
      ]
    },
    {
      "cell_type": "code",
      "metadata": {
        "id": "V9UT5K7DkeBp",
        "colab_type": "code",
        "colab": {}
      },
      "source": [
        "# encode the text and map each character to an integer and vice versa\n",
        "\n",
        "# we create two dictionaries:\n",
        "# 1. int2char, which maps integers to characters\n",
        "# 2. char2int, which maps characters to unique integers\n",
        "chars = tuple(set(text))\n",
        "int2char = dict(enumerate(chars))\n",
        "char2int = {ch: ii for ii, ch in int2char.items()}\n",
        "# encode the text\n",
        "encoded = np.array([char2int[ch] for ch in text])"
      ],
      "execution_count": 6,
      "outputs": []
    },
    {
      "cell_type": "markdown",
      "metadata": {
        "id": "Y-N1FRi3keB8",
        "colab_type": "text"
      },
      "source": [
        "And we can see those same characters from above, encoded as integers."
      ]
    },
    {
      "cell_type": "code",
      "metadata": {
        "id": "rUOqjujzkeCA",
        "colab_type": "code",
        "colab": {
          "base_uri": "https://localhost:8080/",
          "height": 121
        },
        "outputId": "2c991385-5655-4f9a-886c-b7fa5643520d"
      },
      "source": [
        "encoded[:100]"
      ],
      "execution_count": 7,
      "outputs": [
        {
          "output_type": "execute_result",
          "data": {
            "text/plain": [
              "array([50, 65, 48,  0, 49, 12, 41, 82, 28,  6,  6,  6, 81, 48,  0,  0, 29,\n",
              "       82, 72, 48, 21,  4, 68,  4, 12, 70, 82, 48, 41, 12, 82, 48, 68, 68,\n",
              "       82, 48, 68,  4, 64, 12, 36, 82, 12, 60, 12, 41, 29, 82, 27, 71, 65,\n",
              "       48,  0,  0, 29, 82, 72, 48, 21,  4, 68, 29, 82,  4, 70, 82, 27, 71,\n",
              "       65, 48,  0,  0, 29, 82,  4, 71, 82,  4, 49, 70, 82, 13, 10, 71,  6,\n",
              "       10, 48, 29, 11,  6,  6, 61, 60, 12, 41, 29, 49, 65,  4, 71])"
            ]
          },
          "metadata": {
            "tags": []
          },
          "execution_count": 7
        }
      ]
    },
    {
      "cell_type": "markdown",
      "metadata": {
        "id": "_Ulgl7b_keCW",
        "colab_type": "text"
      },
      "source": [
        "## Pre-processing the data\n",
        "\n",
        "As you can see in our char-RNN image above, our LSTM expects an input that is **one-hot encoded** meaning that each character is converted into an integer (via our created dictionary) and *then* converted into a column vector where only it's corresponding integer index will have the value of 1 and the rest of the vector will be filled with 0's. Since we're one-hot encoding the data, let's make a function to do that!\n"
      ]
    },
    {
      "cell_type": "code",
      "metadata": {
        "id": "O7Vjd1UXkeCZ",
        "colab_type": "code",
        "colab": {}
      },
      "source": [
        "def one_hot_encode(arr, n_labels):\n",
        "    \n",
        "    # Initialize the the encoded array\n",
        "    one_hot = np.zeros((arr.size, n_labels), dtype=np.float32)\n",
        "    \n",
        "    # Fill the appropriate elements with ones\n",
        "    one_hot[np.arange(one_hot.shape[0]), arr.flatten()] = 1.\n",
        "    \n",
        "    # Finally reshape it to get back to the original array\n",
        "    one_hot = one_hot.reshape((*arr.shape, n_labels))\n",
        "    \n",
        "    return one_hot"
      ],
      "execution_count": 8,
      "outputs": []
    },
    {
      "cell_type": "code",
      "metadata": {
        "id": "GRNqNJZ6keCr",
        "colab_type": "code",
        "colab": {
          "base_uri": "https://localhost:8080/",
          "height": 69
        },
        "outputId": "a315903b-2cd2-4421-e3d1-4f557656aa4e"
      },
      "source": [
        "# check that the function works as expected\n",
        "test_seq = np.array([[3, 5, 1]])\n",
        "one_hot = one_hot_encode(test_seq, 8)\n",
        "\n",
        "print(one_hot)"
      ],
      "execution_count": 9,
      "outputs": [
        {
          "output_type": "stream",
          "text": [
            "[[[0. 0. 0. 1. 0. 0. 0. 0.]\n",
            "  [0. 0. 0. 0. 0. 1. 0. 0.]\n",
            "  [0. 1. 0. 0. 0. 0. 0. 0.]]]\n"
          ],
          "name": "stdout"
        }
      ]
    },
    {
      "cell_type": "markdown",
      "metadata": {
        "id": "B4Ac8AFUkeC8",
        "colab_type": "text"
      },
      "source": [
        "## Making training mini-batches\n",
        "\n",
        "\n",
        "To train on this data, we also want to create mini-batches for training. Remember that we want our batches to be multiple sequences of some desired number of sequence steps. Considering a simple example, our batches would look like this:\n",
        "\n",
        "<img src=\"assets/sequence_batching@1x.png\" width=500px>\n",
        "\n",
        "\n",
        "<br>\n",
        "\n",
        "In this example, we'll take the encoded characters (passed in as the `arr` parameter) and split them into multiple sequences, given by `batch_size`. Each of our sequences will be `seq_length` long.\n",
        "\n",
        "### Creating Batches\n",
        "\n",
        "**1. The first thing we need to do is discard some of the text so we only have completely full mini-batches. **\n",
        "\n",
        "Each batch contains $N \\times M$ characters, where $N$ is the batch size (the number of sequences in a batch) and $M$ is the seq_length or number of time steps in a sequence. Then, to get the total number of batches, $K$, that we can make from the array `arr`, you divide the length of `arr` by the number of characters per batch. Once you know the number of batches, you can get the total number of characters to keep from `arr`, $N * M * K$.\n",
        "\n",
        "**2. After that, we need to split `arr` into $N$ batches. ** \n",
        "\n",
        "You can do this using `arr.reshape(size)` where `size` is a tuple containing the dimensions sizes of the reshaped array. We know we want $N$ sequences in a batch, so let's make that the size of the first dimension. For the second dimension, you can use `-1` as a placeholder in the size, it'll fill up the array with the appropriate data for you. After this, you should have an array that is $N \\times (M * K)$.\n",
        "\n",
        "**3. Now that we have this array, we can iterate through it to get our mini-batches. **\n",
        "\n",
        "The idea is each batch is a $N \\times M$ window on the $N \\times (M * K)$ array. For each subsequent batch, the window moves over by `seq_length`. We also want to create both the input and target arrays. Remember that the targets are just the inputs shifted over by one character. The way I like to do this window is use `range` to take steps of size `n_steps` from $0$ to `arr.shape[1]`, the total number of tokens in each sequence. That way, the integers you get from `range` always point to the start of a batch, and each window is `seq_length` wide.\n",
        "\n",
        "> **TODO:** Write the code for creating batches in the function below. The exercises in this notebook _will not be easy_. I've provided a notebook with solutions alongside this notebook. If you get stuck, checkout the solutions. The most important thing is that you don't copy and paste the code into here, **type out the solution code yourself.**"
      ]
    },
    {
      "cell_type": "code",
      "metadata": {
        "id": "qPeNfDASkeC-",
        "colab_type": "code",
        "colab": {}
      },
      "source": [
        "def get_batches(arr, batch_size, seq_length):\n",
        "    '''Create a generator that returns batches of size\n",
        "       batch_size x seq_length from arr.\n",
        "       \n",
        "       Arguments\n",
        "       ---------\n",
        "       arr: Array you want to make batches from\n",
        "       batch_size: Batch size, the number of sequences per batch\n",
        "       seq_length: Number of encoded chars in a sequence\n",
        "    '''\n",
        "    batch_size_total=batch_size*seq_length;\n",
        "    ## TODO: Get the number of batches we can make\n",
        "    n_batches = len(arr)//batch_size_total;\n",
        "    \n",
        "    ## TODO: Keep only enough characters to make full batches\n",
        "    arr = arr[:n_batches*batch_size_total];\n",
        "    \n",
        "    ## TODO: Reshape into batch_size rows\n",
        "    arr = arr.reshape((batch_size,-1));\n",
        "\n",
        "    \n",
        "    ## TODO: Iterate over the batches using a window of size seq_length\n",
        "    for n in range(0, arr.shape[1], seq_length):\n",
        "        # The features\n",
        "        x = arr[:,n:n+seq_length]\n",
        "        # The targets, shifted by one\n",
        "        y = np.zeros_like(x)\n",
        "        try:\n",
        "            y[:, :-1], y[:, -1] = x[:, 1:], arr[:, n+seq_length]\n",
        "        except IndexError:\n",
        "            y[:, :-1], y[:, -1] = x[:, 1:], arr[:, 0]\n",
        "        yield x, y"
      ],
      "execution_count": 10,
      "outputs": []
    },
    {
      "cell_type": "markdown",
      "metadata": {
        "id": "qeoFJ4LgkeDP",
        "colab_type": "text"
      },
      "source": [
        "### Test Your Implementation\n",
        "\n",
        "Now I'll make some data sets and we can check out what's going on as we batch data. Here, as an example, I'm going to use a batch size of 8 and 50 sequence steps."
      ]
    },
    {
      "cell_type": "code",
      "metadata": {
        "id": "KSuOLKYRkeDS",
        "colab_type": "code",
        "colab": {}
      },
      "source": [
        "batches = get_batches(encoded, 8, 50)\n",
        "x, y = next(batches)"
      ],
      "execution_count": 11,
      "outputs": []
    },
    {
      "cell_type": "code",
      "metadata": {
        "id": "Xy1TkGWtkeDk",
        "colab_type": "code",
        "colab": {
          "base_uri": "https://localhost:8080/",
          "height": 347
        },
        "outputId": "6d050409-9956-4f58-f972-e9272af12dbe"
      },
      "source": [
        "# printing out the first 10 items in a sequence\n",
        "print('x\\n', x[:10, :10])\n",
        "print('\\ny\\n', y[:10, :10])"
      ],
      "execution_count": 12,
      "outputs": [
        {
          "output_type": "stream",
          "text": [
            "x\n",
            " [[50 65 48  0 49 12 41 82 28  6]\n",
            " [70 13 71 82 49 65 48 49 82 48]\n",
            " [12 71 45 82 13 41 82 48 82 72]\n",
            " [70 82 49 65 12 82 74 65  4 12]\n",
            " [82 70 48 10 82 65 12 41 82 49]\n",
            " [74 27 70 70  4 13 71 82 48 71]\n",
            " [82 78 71 71 48 82 65 48 45 82]\n",
            " [44 31 68 13 71 70 64 29 11 82]]\n",
            "\n",
            "y\n",
            " [[65 48  0 49 12 41 82 28  6  6]\n",
            " [13 71 82 49 65 48 49 82 48 49]\n",
            " [71 45 82 13 41 82 48 82 72 13]\n",
            " [82 49 65 12 82 74 65  4 12 72]\n",
            " [70 48 10 82 65 12 41 82 49 12]\n",
            " [27 70 70  4 13 71 82 48 71 45]\n",
            " [78 71 71 48 82 65 48 45 82 70]\n",
            " [31 68 13 71 70 64 29 11 82 66]]\n"
          ],
          "name": "stdout"
        }
      ]
    },
    {
      "cell_type": "markdown",
      "metadata": {
        "id": "RfZTSO7ekeD6",
        "colab_type": "text"
      },
      "source": [
        "If you implemented `get_batches` correctly, the above output should look something like \n",
        "```\n",
        "x\n",
        " [[25  8 60 11 45 27 28 73  1  2]\n",
        " [17  7 20 73 45  8 60 45 73 60]\n",
        " [27 20 80 73  7 28 73 60 73 65]\n",
        " [17 73 45  8 27 73 66  8 46 27]\n",
        " [73 17 60 12 73  8 27 28 73 45]\n",
        " [66 64 17 17 46  7 20 73 60 20]\n",
        " [73 76 20 20 60 73  8 60 80 73]\n",
        " [47 35 43  7 20 17 24 50 37 73]]\n",
        "\n",
        "y\n",
        " [[ 8 60 11 45 27 28 73  1  2  2]\n",
        " [ 7 20 73 45  8 60 45 73 60 45]\n",
        " [20 80 73  7 28 73 60 73 65  7]\n",
        " [73 45  8 27 73 66  8 46 27 65]\n",
        " [17 60 12 73  8 27 28 73 45 27]\n",
        " [64 17 17 46  7 20 73 60 20 80]\n",
        " [76 20 20 60 73  8 60 80 73 17]\n",
        " [35 43  7 20 17 24 50 37 73 36]]\n",
        " ```\n",
        " although the exact numbers may be different. Check to make sure the data is shifted over one step for `y`."
      ]
    },
    {
      "cell_type": "markdown",
      "metadata": {
        "id": "Rdxj2Hy9keD_",
        "colab_type": "text"
      },
      "source": [
        "---\n",
        "## Defining the network with PyTorch\n",
        "\n",
        "Below is where you'll define the network.\n",
        "\n",
        "<img src=\"assets/charRNN.png\" width=500px>\n",
        "\n",
        "Next, you'll use PyTorch to define the architecture of the network. We start by defining the layers and operations we want. Then, define a method for the forward pass. You've also been given a method for predicting characters."
      ]
    },
    {
      "cell_type": "markdown",
      "metadata": {
        "id": "LFVLDnF9keEC",
        "colab_type": "text"
      },
      "source": [
        "### Model Structure\n",
        "\n",
        "In `__init__` the suggested structure is as follows:\n",
        "* Create and store the necessary dictionaries (this has been done for you)\n",
        "* Define an LSTM layer that takes as params: an input size (the number of characters), a hidden layer size `n_hidden`, a number of layers `n_layers`, a dropout probability `drop_prob`, and a batch_first boolean (True, since we are batching)\n",
        "* Define a dropout layer with `drop_prob`\n",
        "* Define a fully-connected layer with params: input size `n_hidden` and output size (the number of characters)\n",
        "* Finally, initialize the weights (again, this has been given)\n",
        "\n",
        "Note that some parameters have been named and given in the `__init__` function, and we use them and store them by doing something like `self.drop_prob = drop_prob`."
      ]
    },
    {
      "cell_type": "markdown",
      "metadata": {
        "id": "qVb9TcCkkeEG",
        "colab_type": "text"
      },
      "source": [
        "---\n",
        "### LSTM Inputs/Outputs\n",
        "\n",
        "You can create a basic [LSTM layer](https://pytorch.org/docs/stable/nn.html#lstm) as follows\n",
        "\n",
        "```python\n",
        "self.lstm = nn.LSTM(input_size, n_hidden, n_layers, \n",
        "                            dropout=drop_prob, batch_first=True)\n",
        "```\n",
        "\n",
        "where `input_size` is the number of characters this cell expects to see as sequential input, and `n_hidden` is the number of units in the hidden layers in the cell. And we can add dropout by adding a dropout parameter with a specified probability; this will automatically add dropout to the inputs or outputs. Finally, in the `forward` function, we can stack up the LSTM cells into layers using `.view`. With this, you pass in a list of cells and it will send the output of one cell into the next cell.\n",
        "\n",
        "We also need to create an initial hidden state of all zeros. This is done like so\n",
        "\n",
        "```python\n",
        "self.init_hidden()\n",
        "```"
      ]
    },
    {
      "cell_type": "code",
      "metadata": {
        "id": "rKC8J7IVkeEI",
        "colab_type": "code",
        "colab": {
          "base_uri": "https://localhost:8080/",
          "height": 34
        },
        "outputId": "414ebf78-5224-45fb-b62d-1c7f61136bf4"
      },
      "source": [
        "# check if GPU is available\n",
        "train_on_gpu = torch.cuda.is_available()\n",
        "if(train_on_gpu):\n",
        "    print('Training on GPU!')\n",
        "else: \n",
        "    print('No GPU available, training on CPU; consider making n_epochs very small.')"
      ],
      "execution_count": 13,
      "outputs": [
        {
          "output_type": "stream",
          "text": [
            "Training on GPU!\n"
          ],
          "name": "stdout"
        }
      ]
    },
    {
      "cell_type": "code",
      "metadata": {
        "id": "pPxX9fnCkeEa",
        "colab_type": "code",
        "colab": {}
      },
      "source": [
        "class CharRNN(nn.Module):\n",
        "    \n",
        "    def __init__(self, tokens, n_hidden=256, n_layers=2,\n",
        "                               drop_prob=0.5, lr=0.001):\n",
        "        super().__init__()\n",
        "        self.drop_prob = drop_prob\n",
        "        self.n_layers = n_layers\n",
        "        self.n_hidden = n_hidden\n",
        "        self.lr = lr\n",
        "        \n",
        "        # creating character dictionaries\n",
        "        self.chars = tokens\n",
        "        self.int2char = dict(enumerate(self.chars))\n",
        "        self.char2int = {ch: ii for ii, ch in self.int2char.items()}\n",
        "        \n",
        "        ## TODO: define the layers of the model\n",
        "        self.lstm = nn.LSTM(len(self.chars), n_hidden, n_layers, \n",
        "                            dropout=drop_prob, batch_first=True)\n",
        "        self.dropout=nn.Dropout(drop_prob)\n",
        "        self.fc=nn.Linear(n_hidden,len(self.chars))\n",
        "\n",
        "    \n",
        "    def forward(self, x, hidden):\n",
        "        ''' Forward pass through the network. \n",
        "            These inputs are x, and the hidden/cell state `hidden`. '''\n",
        "          \n",
        "        ## TODO: Get the outputs and the new hidden state from the lstm\n",
        "        r_output,hidden=self.lstm(x,hidden);\n",
        "        out=self.dropout(r_output)\n",
        "        out = out.contiguous().view(-1, self.n_hidden)\n",
        "        out=self.fc(out)\n",
        "        # return the final output and the hidden state\n",
        "        return out, hidden\n",
        "    \n",
        "    \n",
        "    def init_hidden(self, batch_size):\n",
        "        ''' Initializes hidden state '''\n",
        "        # Create two new tensors with sizes n_layers x batch_size x n_hidden,\n",
        "        # initialized to zero, for hidden state and cell state of LSTM\n",
        "        weight = next(self.parameters()).data\n",
        "        \n",
        "        if (train_on_gpu):\n",
        "            hidden = (weight.new(self.n_layers, batch_size, self.n_hidden).zero_().cuda(),\n",
        "                  weight.new(self.n_layers, batch_size, self.n_hidden).zero_().cuda())\n",
        "        else:\n",
        "            hidden = (weight.new(self.n_layers, batch_size, self.n_hidden).zero_(),\n",
        "                      weight.new(self.n_layers, batch_size, self.n_hidden).zero_())\n",
        "        \n",
        "        return hidden\n",
        "        "
      ],
      "execution_count": 17,
      "outputs": []
    },
    {
      "cell_type": "markdown",
      "metadata": {
        "id": "y3WFMf0SkeEp",
        "colab_type": "text"
      },
      "source": [
        "## Time to train\n",
        "\n",
        "The train function gives us the ability to set the number of epochs, the learning rate, and other parameters.\n",
        "\n",
        "Below we're using an Adam optimizer and cross entropy loss since we are looking at character class scores as output. We calculate the loss and perform backpropagation, as usual!\n",
        "\n",
        "A couple of details about training: \n",
        ">* Within the batch loop, we detach the hidden state from its history; this time setting it equal to a new *tuple* variable because an LSTM has a hidden state that is a tuple of the hidden and cell states.\n",
        "* We use [`clip_grad_norm_`](https://pytorch.org/docs/stable/_modules/torch/nn/utils/clip_grad.html) to help prevent exploding gradients."
      ]
    },
    {
      "cell_type": "code",
      "metadata": {
        "id": "O9dv1o8SkeEr",
        "colab_type": "code",
        "colab": {}
      },
      "source": [
        "def train(net, data, epochs=10, batch_size=10, seq_length=50, lr=0.001, clip=5, val_frac=0.1, print_every=10):\n",
        "    ''' Training a network \n",
        "    \n",
        "        Arguments\n",
        "        ---------\n",
        "        \n",
        "        net: CharRNN network\n",
        "        data: text data to train the network\n",
        "        epochs: Number of epochs to train\n",
        "        batch_size: Number of mini-sequences per mini-batch, aka batch size\n",
        "        seq_length: Number of character steps per mini-batch\n",
        "        lr: learning rate\n",
        "        clip: gradient clipping\n",
        "        val_frac: Fraction of data to hold out for validation\n",
        "        print_every: Number of steps for printing training and validation loss\n",
        "    \n",
        "    '''\n",
        "    net.train()\n",
        "    \n",
        "    opt = torch.optim.Adam(net.parameters(), lr=lr)\n",
        "    criterion = nn.CrossEntropyLoss()\n",
        "    \n",
        "    # create training and validation data\n",
        "    val_idx = int(len(data)*(1-val_frac))\n",
        "    data, val_data = data[:val_idx], data[val_idx:]\n",
        "    \n",
        "    if(train_on_gpu):\n",
        "        net.cuda()\n",
        "    \n",
        "    counter = 0\n",
        "    n_chars = len(net.chars)\n",
        "    for e in range(epochs):\n",
        "        # initialize hidden state\n",
        "        h = net.init_hidden(batch_size)\n",
        "        \n",
        "        for x, y in get_batches(data, batch_size, seq_length):\n",
        "            counter += 1\n",
        "            \n",
        "            # One-hot encode our data and make them Torch tensors\n",
        "            x = one_hot_encode(x, n_chars)\n",
        "            inputs, targets = torch.from_numpy(x), torch.from_numpy(y)\n",
        "            \n",
        "            if(train_on_gpu):\n",
        "                inputs, targets = inputs.cuda(), targets.cuda()\n",
        "\n",
        "            # Creating new variables for the hidden state, otherwise\n",
        "            # we'd backprop through the entire training history\n",
        "            h = tuple([each.data for each in h])\n",
        "\n",
        "            # zero accumulated gradients\n",
        "            net.zero_grad()\n",
        "            \n",
        "            # get the output from the model\n",
        "            output, h = net(inputs, h)\n",
        "            \n",
        "            # calculate the loss and perform backprop\n",
        "            loss = criterion(output, targets.view(batch_size*seq_length).long())\n",
        "            loss.backward()\n",
        "            # `clip_grad_norm` helps prevent the exploding gradient problem in RNNs / LSTMs.\n",
        "            nn.utils.clip_grad_norm_(net.parameters(), clip)\n",
        "            opt.step()\n",
        "            \n",
        "            # loss stats\n",
        "            if counter % print_every == 0:\n",
        "                # Get validation loss\n",
        "                val_h = net.init_hidden(batch_size)\n",
        "                val_losses = []\n",
        "                net.eval()\n",
        "                for x, y in get_batches(val_data, batch_size, seq_length):\n",
        "                    # One-hot encode our data and make them Torch tensors\n",
        "                    x = one_hot_encode(x, n_chars)\n",
        "                    x, y = torch.from_numpy(x), torch.from_numpy(y)\n",
        "                    \n",
        "                    # Creating new variables for the hidden state, otherwise\n",
        "                    # we'd backprop through the entire training history\n",
        "                    val_h = tuple([each.data for each in val_h])\n",
        "                    \n",
        "                    inputs, targets = x, y\n",
        "                    if(train_on_gpu):\n",
        "                        inputs, targets = inputs.cuda(), targets.cuda()\n",
        "\n",
        "                    output, val_h = net(inputs, val_h)\n",
        "                    val_loss = criterion(output, targets.view(batch_size*seq_length).long())\n",
        "                \n",
        "                    val_losses.append(val_loss.item())\n",
        "                \n",
        "                net.train() # reset to train mode after iterationg through validation data\n",
        "                \n",
        "                print(\"Epoch: {}/{}...\".format(e+1, epochs),\n",
        "                      \"Step: {}...\".format(counter),\n",
        "                      \"Loss: {:.4f}...\".format(loss.item()),\n",
        "                      \"Val Loss: {:.4f}\".format(np.mean(val_losses)))"
      ],
      "execution_count": 18,
      "outputs": []
    },
    {
      "cell_type": "markdown",
      "metadata": {
        "id": "9Xa_sR3UkeE8",
        "colab_type": "text"
      },
      "source": [
        "## Instantiating the model\n",
        "\n",
        "Now we can actually train the network. First we'll create the network itself, with some given hyperparameters. Then, define the mini-batches sizes, and start training!"
      ]
    },
    {
      "cell_type": "code",
      "metadata": {
        "id": "XN3_iPIfkeE9",
        "colab_type": "code",
        "colab": {
          "base_uri": "https://localhost:8080/",
          "height": 104
        },
        "outputId": "8e3fc5b4-3c87-44d3-a148-e9caad378393"
      },
      "source": [
        "## TODO: set your model hyperparameters\n",
        "# define and print the net\n",
        "n_hidden=512  \n",
        "n_layers=2\n",
        "\n",
        "net = CharRNN(chars, n_hidden, n_layers)\n",
        "print(net)"
      ],
      "execution_count": 19,
      "outputs": [
        {
          "output_type": "stream",
          "text": [
            "CharRNN(\n",
            "  (lstm): LSTM(83, 512, num_layers=2, batch_first=True, dropout=0.5)\n",
            "  (dropout): Dropout(p=0.5, inplace=False)\n",
            "  (fc): Linear(in_features=512, out_features=83, bias=True)\n",
            ")\n"
          ],
          "name": "stdout"
        }
      ]
    },
    {
      "cell_type": "markdown",
      "metadata": {
        "id": "siXCfhIpkeFM",
        "colab_type": "text"
      },
      "source": [
        "### Set your training hyperparameters!"
      ]
    },
    {
      "cell_type": "code",
      "metadata": {
        "scrolled": true,
        "id": "Xw1EWsRIkeFP",
        "colab_type": "code",
        "colab": {
          "base_uri": "https://localhost:8080/",
          "height": 1000
        },
        "outputId": "e8439445-c2ad-4926-e013-1f9b4ea2e167"
      },
      "source": [
        "batch_size = 128\n",
        "seq_length = 100\n",
        "n_epochs = 20 # start small if you are just testing initial behavior\n",
        "\n",
        "# train the model\n",
        "train(net, encoded, epochs=n_epochs, batch_size=batch_size, seq_length=seq_length, lr=0.001, print_every=10)"
      ],
      "execution_count": 21,
      "outputs": [
        {
          "output_type": "stream",
          "text": [
            "Epoch: 1/20... Step: 10... Loss: 2.7138... Val Loss: 2.6749\n",
            "Epoch: 1/20... Step: 20... Loss: 2.6275... Val Loss: 2.6157\n",
            "Epoch: 1/20... Step: 30... Loss: 2.6022... Val Loss: 2.5576\n",
            "Epoch: 1/20... Step: 40... Loss: 2.5197... Val Loss: 2.5096\n",
            "Epoch: 1/20... Step: 50... Loss: 2.5276... Val Loss: 2.4732\n",
            "Epoch: 1/20... Step: 60... Loss: 2.4437... Val Loss: 2.4301\n",
            "Epoch: 1/20... Step: 70... Loss: 2.4166... Val Loss: 2.4027\n",
            "Epoch: 1/20... Step: 80... Loss: 2.3798... Val Loss: 2.3694\n",
            "Epoch: 1/20... Step: 90... Loss: 2.3778... Val Loss: 2.3395\n",
            "Epoch: 1/20... Step: 100... Loss: 2.3306... Val Loss: 2.3061\n",
            "Epoch: 1/20... Step: 110... Loss: 2.2790... Val Loss: 2.2718\n",
            "Epoch: 1/20... Step: 120... Loss: 2.2266... Val Loss: 2.2386\n",
            "Epoch: 1/20... Step: 130... Loss: 2.2418... Val Loss: 2.2126\n",
            "Epoch: 2/20... Step: 140... Loss: 2.2178... Val Loss: 2.1842\n",
            "Epoch: 2/20... Step: 150... Loss: 2.1830... Val Loss: 2.1577\n",
            "Epoch: 2/20... Step: 160... Loss: 2.1630... Val Loss: 2.1246\n",
            "Epoch: 2/20... Step: 170... Loss: 2.1112... Val Loss: 2.0977\n",
            "Epoch: 2/20... Step: 180... Loss: 2.0780... Val Loss: 2.0763\n",
            "Epoch: 2/20... Step: 190... Loss: 2.0301... Val Loss: 2.0670\n",
            "Epoch: 2/20... Step: 200... Loss: 2.0338... Val Loss: 2.0331\n",
            "Epoch: 2/20... Step: 210... Loss: 2.0333... Val Loss: 2.0134\n",
            "Epoch: 2/20... Step: 220... Loss: 1.9863... Val Loss: 1.9940\n",
            "Epoch: 2/20... Step: 230... Loss: 1.9950... Val Loss: 1.9668\n",
            "Epoch: 2/20... Step: 240... Loss: 1.9847... Val Loss: 1.9522\n",
            "Epoch: 2/20... Step: 250... Loss: 1.9248... Val Loss: 1.9321\n",
            "Epoch: 2/20... Step: 260... Loss: 1.8936... Val Loss: 1.9125\n",
            "Epoch: 2/20... Step: 270... Loss: 1.9271... Val Loss: 1.8958\n",
            "Epoch: 3/20... Step: 280... Loss: 1.9110... Val Loss: 1.8814\n",
            "Epoch: 3/20... Step: 290... Loss: 1.8961... Val Loss: 1.8629\n",
            "Epoch: 3/20... Step: 300... Loss: 1.8669... Val Loss: 1.8473\n",
            "Epoch: 3/20... Step: 310... Loss: 1.8533... Val Loss: 1.8354\n",
            "Epoch: 3/20... Step: 320... Loss: 1.8058... Val Loss: 1.8198\n",
            "Epoch: 3/20... Step: 330... Loss: 1.8026... Val Loss: 1.8103\n",
            "Epoch: 3/20... Step: 340... Loss: 1.8466... Val Loss: 1.7957\n",
            "Epoch: 3/20... Step: 350... Loss: 1.7940... Val Loss: 1.7821\n",
            "Epoch: 3/20... Step: 360... Loss: 1.7499... Val Loss: 1.7752\n",
            "Epoch: 3/20... Step: 370... Loss: 1.7837... Val Loss: 1.7647\n",
            "Epoch: 3/20... Step: 380... Loss: 1.7759... Val Loss: 1.7525\n",
            "Epoch: 3/20... Step: 390... Loss: 1.7383... Val Loss: 1.7389\n",
            "Epoch: 3/20... Step: 400... Loss: 1.7085... Val Loss: 1.7254\n",
            "Epoch: 3/20... Step: 410... Loss: 1.7298... Val Loss: 1.7168\n",
            "Epoch: 4/20... Step: 420... Loss: 1.7284... Val Loss: 1.7071\n",
            "Epoch: 4/20... Step: 430... Loss: 1.7263... Val Loss: 1.7009\n",
            "Epoch: 4/20... Step: 440... Loss: 1.7130... Val Loss: 1.6927\n",
            "Epoch: 4/20... Step: 450... Loss: 1.6590... Val Loss: 1.6842\n",
            "Epoch: 4/20... Step: 460... Loss: 1.6445... Val Loss: 1.6766\n",
            "Epoch: 4/20... Step: 470... Loss: 1.7030... Val Loss: 1.6673\n",
            "Epoch: 4/20... Step: 480... Loss: 1.6691... Val Loss: 1.6591\n",
            "Epoch: 4/20... Step: 490... Loss: 1.6759... Val Loss: 1.6545\n",
            "Epoch: 4/20... Step: 500... Loss: 1.6755... Val Loss: 1.6442\n",
            "Epoch: 4/20... Step: 510... Loss: 1.6590... Val Loss: 1.6405\n",
            "Epoch: 4/20... Step: 520... Loss: 1.6704... Val Loss: 1.6365\n",
            "Epoch: 4/20... Step: 530... Loss: 1.6318... Val Loss: 1.6246\n",
            "Epoch: 4/20... Step: 540... Loss: 1.5970... Val Loss: 1.6171\n",
            "Epoch: 4/20... Step: 550... Loss: 1.6446... Val Loss: 1.6123\n",
            "Epoch: 5/20... Step: 560... Loss: 1.6094... Val Loss: 1.6094\n",
            "Epoch: 5/20... Step: 570... Loss: 1.6103... Val Loss: 1.5968\n",
            "Epoch: 5/20... Step: 580... Loss: 1.5901... Val Loss: 1.5905\n",
            "Epoch: 5/20... Step: 590... Loss: 1.5880... Val Loss: 1.5886\n",
            "Epoch: 5/20... Step: 600... Loss: 1.5804... Val Loss: 1.5835\n",
            "Epoch: 5/20... Step: 610... Loss: 1.5631... Val Loss: 1.5749\n",
            "Epoch: 5/20... Step: 620... Loss: 1.5757... Val Loss: 1.5744\n",
            "Epoch: 5/20... Step: 630... Loss: 1.5956... Val Loss: 1.5720\n",
            "Epoch: 5/20... Step: 640... Loss: 1.5519... Val Loss: 1.5632\n",
            "Epoch: 5/20... Step: 650... Loss: 1.5620... Val Loss: 1.5551\n",
            "Epoch: 5/20... Step: 660... Loss: 1.5452... Val Loss: 1.5553\n",
            "Epoch: 5/20... Step: 670... Loss: 1.5586... Val Loss: 1.5497\n",
            "Epoch: 5/20... Step: 680... Loss: 1.5639... Val Loss: 1.5452\n",
            "Epoch: 5/20... Step: 690... Loss: 1.5319... Val Loss: 1.5423\n",
            "Epoch: 6/20... Step: 700... Loss: 1.5430... Val Loss: 1.5357\n",
            "Epoch: 6/20... Step: 710... Loss: 1.5301... Val Loss: 1.5347\n",
            "Epoch: 6/20... Step: 720... Loss: 1.5182... Val Loss: 1.5276\n",
            "Epoch: 6/20... Step: 730... Loss: 1.5378... Val Loss: 1.5258\n",
            "Epoch: 6/20... Step: 740... Loss: 1.5022... Val Loss: 1.5226\n",
            "Epoch: 6/20... Step: 750... Loss: 1.4918... Val Loss: 1.5157\n",
            "Epoch: 6/20... Step: 760... Loss: 1.5311... Val Loss: 1.5166\n",
            "Epoch: 6/20... Step: 770... Loss: 1.5150... Val Loss: 1.5128\n",
            "Epoch: 6/20... Step: 780... Loss: 1.5012... Val Loss: 1.5060\n",
            "Epoch: 6/20... Step: 790... Loss: 1.4818... Val Loss: 1.5061\n",
            "Epoch: 6/20... Step: 800... Loss: 1.5018... Val Loss: 1.5016\n",
            "Epoch: 6/20... Step: 810... Loss: 1.4890... Val Loss: 1.4957\n",
            "Epoch: 6/20... Step: 820... Loss: 1.4500... Val Loss: 1.4914\n",
            "Epoch: 6/20... Step: 830... Loss: 1.4980... Val Loss: 1.4888\n",
            "Epoch: 7/20... Step: 840... Loss: 1.4682... Val Loss: 1.4902\n",
            "Epoch: 7/20... Step: 850... Loss: 1.4796... Val Loss: 1.4834\n",
            "Epoch: 7/20... Step: 860... Loss: 1.4605... Val Loss: 1.4790\n",
            "Epoch: 7/20... Step: 870... Loss: 1.4696... Val Loss: 1.4782\n",
            "Epoch: 7/20... Step: 880... Loss: 1.4715... Val Loss: 1.4739\n",
            "Epoch: 7/20... Step: 890... Loss: 1.4754... Val Loss: 1.4697\n",
            "Epoch: 7/20... Step: 900... Loss: 1.4624... Val Loss: 1.4687\n",
            "Epoch: 7/20... Step: 910... Loss: 1.4366... Val Loss: 1.4708\n",
            "Epoch: 7/20... Step: 920... Loss: 1.4577... Val Loss: 1.4630\n",
            "Epoch: 7/20... Step: 930... Loss: 1.4386... Val Loss: 1.4589\n",
            "Epoch: 7/20... Step: 940... Loss: 1.4329... Val Loss: 1.4616\n",
            "Epoch: 7/20... Step: 950... Loss: 1.4561... Val Loss: 1.4567\n",
            "Epoch: 7/20... Step: 960... Loss: 1.4634... Val Loss: 1.4526\n",
            "Epoch: 7/20... Step: 970... Loss: 1.4544... Val Loss: 1.4534\n",
            "Epoch: 8/20... Step: 980... Loss: 1.4329... Val Loss: 1.4497\n",
            "Epoch: 8/20... Step: 990... Loss: 1.4309... Val Loss: 1.4456\n",
            "Epoch: 8/20... Step: 1000... Loss: 1.4313... Val Loss: 1.4422\n",
            "Epoch: 8/20... Step: 1010... Loss: 1.4639... Val Loss: 1.4386\n",
            "Epoch: 8/20... Step: 1020... Loss: 1.4325... Val Loss: 1.4399\n",
            "Epoch: 8/20... Step: 1030... Loss: 1.4218... Val Loss: 1.4367\n",
            "Epoch: 8/20... Step: 1040... Loss: 1.4318... Val Loss: 1.4359\n",
            "Epoch: 8/20... Step: 1050... Loss: 1.4037... Val Loss: 1.4344\n",
            "Epoch: 8/20... Step: 1060... Loss: 1.4159... Val Loss: 1.4298\n",
            "Epoch: 8/20... Step: 1070... Loss: 1.4182... Val Loss: 1.4276\n",
            "Epoch: 8/20... Step: 1080... Loss: 1.4139... Val Loss: 1.4272\n",
            "Epoch: 8/20... Step: 1090... Loss: 1.4024... Val Loss: 1.4293\n",
            "Epoch: 8/20... Step: 1100... Loss: 1.3918... Val Loss: 1.4218\n",
            "Epoch: 8/20... Step: 1110... Loss: 1.4053... Val Loss: 1.4240\n",
            "Epoch: 9/20... Step: 1120... Loss: 1.4068... Val Loss: 1.4219\n",
            "Epoch: 9/20... Step: 1130... Loss: 1.4091... Val Loss: 1.4153\n",
            "Epoch: 9/20... Step: 1140... Loss: 1.4247... Val Loss: 1.4121\n",
            "Epoch: 9/20... Step: 1150... Loss: 1.4304... Val Loss: 1.4152\n",
            "Epoch: 9/20... Step: 1160... Loss: 1.3830... Val Loss: 1.4113\n",
            "Epoch: 9/20... Step: 1170... Loss: 1.4003... Val Loss: 1.4097\n",
            "Epoch: 9/20... Step: 1180... Loss: 1.3832... Val Loss: 1.4110\n",
            "Epoch: 9/20... Step: 1190... Loss: 1.4200... Val Loss: 1.4081\n",
            "Epoch: 9/20... Step: 1200... Loss: 1.3723... Val Loss: 1.4044\n",
            "Epoch: 9/20... Step: 1210... Loss: 1.3801... Val Loss: 1.4016\n",
            "Epoch: 9/20... Step: 1220... Loss: 1.3904... Val Loss: 1.4028\n",
            "Epoch: 9/20... Step: 1230... Loss: 1.3565... Val Loss: 1.3988\n",
            "Epoch: 9/20... Step: 1240... Loss: 1.3739... Val Loss: 1.3959\n",
            "Epoch: 9/20... Step: 1250... Loss: 1.3767... Val Loss: 1.3954\n",
            "Epoch: 10/20... Step: 1260... Loss: 1.3854... Val Loss: 1.3960\n",
            "Epoch: 10/20... Step: 1270... Loss: 1.3823... Val Loss: 1.3954\n",
            "Epoch: 10/20... Step: 1280... Loss: 1.3883... Val Loss: 1.3878\n",
            "Epoch: 10/20... Step: 1290... Loss: 1.3752... Val Loss: 1.3928\n",
            "Epoch: 10/20... Step: 1300... Loss: 1.3701... Val Loss: 1.3917\n",
            "Epoch: 10/20... Step: 1310... Loss: 1.3783... Val Loss: 1.3886\n",
            "Epoch: 10/20... Step: 1320... Loss: 1.3480... Val Loss: 1.3878\n",
            "Epoch: 10/20... Step: 1330... Loss: 1.3561... Val Loss: 1.3837\n",
            "Epoch: 10/20... Step: 1340... Loss: 1.3452... Val Loss: 1.3808\n",
            "Epoch: 10/20... Step: 1350... Loss: 1.3391... Val Loss: 1.3787\n",
            "Epoch: 10/20... Step: 1360... Loss: 1.3487... Val Loss: 1.3841\n",
            "Epoch: 10/20... Step: 1370... Loss: 1.3343... Val Loss: 1.3793\n",
            "Epoch: 10/20... Step: 1380... Loss: 1.3725... Val Loss: 1.3759\n",
            "Epoch: 10/20... Step: 1390... Loss: 1.3821... Val Loss: 1.3780\n",
            "Epoch: 11/20... Step: 1400... Loss: 1.3823... Val Loss: 1.3732\n",
            "Epoch: 11/20... Step: 1410... Loss: 1.3851... Val Loss: 1.3692\n",
            "Epoch: 11/20... Step: 1420... Loss: 1.3902... Val Loss: 1.3665\n",
            "Epoch: 11/20... Step: 1430... Loss: 1.3493... Val Loss: 1.3740\n",
            "Epoch: 11/20... Step: 1440... Loss: 1.3760... Val Loss: 1.3737\n",
            "Epoch: 11/20... Step: 1450... Loss: 1.3001... Val Loss: 1.3745\n",
            "Epoch: 11/20... Step: 1460... Loss: 1.3358... Val Loss: 1.3711\n",
            "Epoch: 11/20... Step: 1470... Loss: 1.3140... Val Loss: 1.3671\n",
            "Epoch: 11/20... Step: 1480... Loss: 1.3374... Val Loss: 1.3667\n",
            "Epoch: 11/20... Step: 1490... Loss: 1.3300... Val Loss: 1.3630\n",
            "Epoch: 11/20... Step: 1500... Loss: 1.3216... Val Loss: 1.3698\n",
            "Epoch: 11/20... Step: 1510... Loss: 1.3026... Val Loss: 1.3632\n",
            "Epoch: 11/20... Step: 1520... Loss: 1.3361... Val Loss: 1.3590\n",
            "Epoch: 12/20... Step: 1530... Loss: 1.3877... Val Loss: 1.3637\n",
            "Epoch: 12/20... Step: 1540... Loss: 1.3539... Val Loss: 1.3583\n",
            "Epoch: 12/20... Step: 1550... Loss: 1.3440... Val Loss: 1.3538\n",
            "Epoch: 12/20... Step: 1560... Loss: 1.3536... Val Loss: 1.3492\n",
            "Epoch: 12/20... Step: 1570... Loss: 1.3002... Val Loss: 1.3541\n",
            "Epoch: 12/20... Step: 1580... Loss: 1.2863... Val Loss: 1.3529\n",
            "Epoch: 12/20... Step: 1590... Loss: 1.2799... Val Loss: 1.3582\n",
            "Epoch: 12/20... Step: 1600... Loss: 1.3133... Val Loss: 1.3524\n",
            "Epoch: 12/20... Step: 1610... Loss: 1.2966... Val Loss: 1.3519\n",
            "Epoch: 12/20... Step: 1620... Loss: 1.3020... Val Loss: 1.3450\n",
            "Epoch: 12/20... Step: 1630... Loss: 1.3253... Val Loss: 1.3434\n",
            "Epoch: 12/20... Step: 1640... Loss: 1.3045... Val Loss: 1.3476\n",
            "Epoch: 12/20... Step: 1650... Loss: 1.2817... Val Loss: 1.3469\n",
            "Epoch: 12/20... Step: 1660... Loss: 1.3274... Val Loss: 1.3398\n",
            "Epoch: 13/20... Step: 1670... Loss: 1.2984... Val Loss: 1.3424\n",
            "Epoch: 13/20... Step: 1680... Loss: 1.3078... Val Loss: 1.3387\n",
            "Epoch: 13/20... Step: 1690... Loss: 1.2934... Val Loss: 1.3352\n",
            "Epoch: 13/20... Step: 1700... Loss: 1.2963... Val Loss: 1.3355\n",
            "Epoch: 13/20... Step: 1710... Loss: 1.2801... Val Loss: 1.3402\n",
            "Epoch: 13/20... Step: 1720... Loss: 1.2838... Val Loss: 1.3384\n",
            "Epoch: 13/20... Step: 1730... Loss: 1.3140... Val Loss: 1.3408\n",
            "Epoch: 13/20... Step: 1740... Loss: 1.2842... Val Loss: 1.3378\n",
            "Epoch: 13/20... Step: 1750... Loss: 1.2619... Val Loss: 1.3332\n",
            "Epoch: 13/20... Step: 1760... Loss: 1.2885... Val Loss: 1.3356\n",
            "Epoch: 13/20... Step: 1770... Loss: 1.3075... Val Loss: 1.3334\n",
            "Epoch: 13/20... Step: 1780... Loss: 1.2810... Val Loss: 1.3365\n",
            "Epoch: 13/20... Step: 1790... Loss: 1.2680... Val Loss: 1.3299\n",
            "Epoch: 13/20... Step: 1800... Loss: 1.2852... Val Loss: 1.3225\n",
            "Epoch: 14/20... Step: 1810... Loss: 1.2930... Val Loss: 1.3265\n",
            "Epoch: 14/20... Step: 1820... Loss: 1.2741... Val Loss: 1.3199\n",
            "Epoch: 14/20... Step: 1830... Loss: 1.2990... Val Loss: 1.3266\n",
            "Epoch: 14/20... Step: 1840... Loss: 1.2469... Val Loss: 1.3300\n",
            "Epoch: 14/20... Step: 1850... Loss: 1.2313... Val Loss: 1.3239\n",
            "Epoch: 14/20... Step: 1860... Loss: 1.2903... Val Loss: 1.3249\n",
            "Epoch: 14/20... Step: 1870... Loss: 1.2999... Val Loss: 1.3233\n",
            "Epoch: 14/20... Step: 1880... Loss: 1.2811... Val Loss: 1.3221\n",
            "Epoch: 14/20... Step: 1890... Loss: 1.2959... Val Loss: 1.3185\n",
            "Epoch: 14/20... Step: 1900... Loss: 1.2722... Val Loss: 1.3160\n",
            "Epoch: 14/20... Step: 1910... Loss: 1.2837... Val Loss: 1.3134\n",
            "Epoch: 14/20... Step: 1920... Loss: 1.2744... Val Loss: 1.3212\n",
            "Epoch: 14/20... Step: 1930... Loss: 1.2388... Val Loss: 1.3163\n",
            "Epoch: 14/20... Step: 1940... Loss: 1.3017... Val Loss: 1.3179\n",
            "Epoch: 15/20... Step: 1950... Loss: 1.2648... Val Loss: 1.3177\n",
            "Epoch: 15/20... Step: 1960... Loss: 1.2696... Val Loss: 1.3120\n",
            "Epoch: 15/20... Step: 1970... Loss: 1.2610... Val Loss: 1.3180\n",
            "Epoch: 15/20... Step: 1980... Loss: 1.2486... Val Loss: 1.3113\n",
            "Epoch: 15/20... Step: 1990... Loss: 1.2546... Val Loss: 1.3102\n",
            "Epoch: 15/20... Step: 2000... Loss: 1.2332... Val Loss: 1.3138\n",
            "Epoch: 15/20... Step: 2010... Loss: 1.2584... Val Loss: 1.3134\n",
            "Epoch: 15/20... Step: 2020... Loss: 1.2740... Val Loss: 1.3150\n",
            "Epoch: 15/20... Step: 2030... Loss: 1.2490... Val Loss: 1.3150\n",
            "Epoch: 15/20... Step: 2040... Loss: 1.2658... Val Loss: 1.3128\n",
            "Epoch: 15/20... Step: 2050... Loss: 1.2461... Val Loss: 1.3116\n",
            "Epoch: 15/20... Step: 2060... Loss: 1.2550... Val Loss: 1.3093\n",
            "Epoch: 15/20... Step: 2070... Loss: 1.2633... Val Loss: 1.3080\n",
            "Epoch: 15/20... Step: 2080... Loss: 1.2563... Val Loss: 1.3023\n",
            "Epoch: 16/20... Step: 2090... Loss: 1.2663... Val Loss: 1.3034\n",
            "Epoch: 16/20... Step: 2100... Loss: 1.2512... Val Loss: 1.3007\n",
            "Epoch: 16/20... Step: 2110... Loss: 1.2460... Val Loss: 1.3024\n",
            "Epoch: 16/20... Step: 2120... Loss: 1.2644... Val Loss: 1.3027\n",
            "Epoch: 16/20... Step: 2130... Loss: 1.2220... Val Loss: 1.3026\n",
            "Epoch: 16/20... Step: 2140... Loss: 1.2364... Val Loss: 1.3019\n",
            "Epoch: 16/20... Step: 2150... Loss: 1.2623... Val Loss: 1.2987\n",
            "Epoch: 16/20... Step: 2160... Loss: 1.2368... Val Loss: 1.3028\n",
            "Epoch: 16/20... Step: 2170... Loss: 1.2423... Val Loss: 1.3035\n",
            "Epoch: 16/20... Step: 2180... Loss: 1.2381... Val Loss: 1.3001\n",
            "Epoch: 16/20... Step: 2190... Loss: 1.2489... Val Loss: 1.3034\n",
            "Epoch: 16/20... Step: 2200... Loss: 1.2322... Val Loss: 1.2978\n",
            "Epoch: 16/20... Step: 2210... Loss: 1.2012... Val Loss: 1.2991\n",
            "Epoch: 16/20... Step: 2220... Loss: 1.2466... Val Loss: 1.2962\n",
            "Epoch: 17/20... Step: 2230... Loss: 1.2267... Val Loss: 1.2987\n",
            "Epoch: 17/20... Step: 2240... Loss: 1.2379... Val Loss: 1.2919\n",
            "Epoch: 17/20... Step: 2250... Loss: 1.2156... Val Loss: 1.2959\n",
            "Epoch: 17/20... Step: 2260... Loss: 1.2328... Val Loss: 1.2921\n",
            "Epoch: 17/20... Step: 2270... Loss: 1.2407... Val Loss: 1.2957\n",
            "Epoch: 17/20... Step: 2280... Loss: 1.2426... Val Loss: 1.2979\n",
            "Epoch: 17/20... Step: 2290... Loss: 1.2420... Val Loss: 1.3020\n",
            "Epoch: 17/20... Step: 2300... Loss: 1.2094... Val Loss: 1.2931\n",
            "Epoch: 17/20... Step: 2310... Loss: 1.2262... Val Loss: 1.2930\n",
            "Epoch: 17/20... Step: 2320... Loss: 1.2260... Val Loss: 1.2903\n",
            "Epoch: 17/20... Step: 2330... Loss: 1.2232... Val Loss: 1.2946\n",
            "Epoch: 17/20... Step: 2340... Loss: 1.2390... Val Loss: 1.2946\n",
            "Epoch: 17/20... Step: 2350... Loss: 1.2436... Val Loss: 1.2925\n",
            "Epoch: 17/20... Step: 2360... Loss: 1.2319... Val Loss: 1.2902\n",
            "Epoch: 18/20... Step: 2370... Loss: 1.2174... Val Loss: 1.2911\n",
            "Epoch: 18/20... Step: 2380... Loss: 1.2114... Val Loss: 1.2906\n",
            "Epoch: 18/20... Step: 2390... Loss: 1.2221... Val Loss: 1.2882\n",
            "Epoch: 18/20... Step: 2400... Loss: 1.2387... Val Loss: 1.2839\n",
            "Epoch: 18/20... Step: 2410... Loss: 1.2338... Val Loss: 1.2869\n",
            "Epoch: 18/20... Step: 2420... Loss: 1.2158... Val Loss: 1.2875\n",
            "Epoch: 18/20... Step: 2430... Loss: 1.2281... Val Loss: 1.2888\n",
            "Epoch: 18/20... Step: 2440... Loss: 1.2169... Val Loss: 1.2839\n",
            "Epoch: 18/20... Step: 2450... Loss: 1.2121... Val Loss: 1.2860\n",
            "Epoch: 18/20... Step: 2460... Loss: 1.2305... Val Loss: 1.2911\n",
            "Epoch: 18/20... Step: 2470... Loss: 1.2148... Val Loss: 1.2835\n",
            "Epoch: 18/20... Step: 2480... Loss: 1.2207... Val Loss: 1.2827\n",
            "Epoch: 18/20... Step: 2490... Loss: 1.2028... Val Loss: 1.2824\n",
            "Epoch: 18/20... Step: 2500... Loss: 1.2042... Val Loss: 1.2833\n",
            "Epoch: 19/20... Step: 2510... Loss: 1.2211... Val Loss: 1.2863\n",
            "Epoch: 19/20... Step: 2520... Loss: 1.2345... Val Loss: 1.2895\n",
            "Epoch: 19/20... Step: 2530... Loss: 1.2305... Val Loss: 1.2851\n",
            "Epoch: 19/20... Step: 2540... Loss: 1.2469... Val Loss: 1.2834\n",
            "Epoch: 19/20... Step: 2550... Loss: 1.2040... Val Loss: 1.2808\n",
            "Epoch: 19/20... Step: 2560... Loss: 1.2101... Val Loss: 1.2818\n",
            "Epoch: 19/20... Step: 2570... Loss: 1.1943... Val Loss: 1.2873\n",
            "Epoch: 19/20... Step: 2580... Loss: 1.2419... Val Loss: 1.2804\n",
            "Epoch: 19/20... Step: 2590... Loss: 1.1979... Val Loss: 1.2837\n",
            "Epoch: 19/20... Step: 2600... Loss: 1.1985... Val Loss: 1.2829\n",
            "Epoch: 19/20... Step: 2610... Loss: 1.2129... Val Loss: 1.2803\n",
            "Epoch: 19/20... Step: 2620... Loss: 1.1980... Val Loss: 1.2811\n",
            "Epoch: 19/20... Step: 2630... Loss: 1.1988... Val Loss: 1.2793\n",
            "Epoch: 19/20... Step: 2640... Loss: 1.2144... Val Loss: 1.2811\n",
            "Epoch: 20/20... Step: 2650... Loss: 1.2149... Val Loss: 1.2794\n",
            "Epoch: 20/20... Step: 2660... Loss: 1.2151... Val Loss: 1.2777\n",
            "Epoch: 20/20... Step: 2670... Loss: 1.2181... Val Loss: 1.2758\n",
            "Epoch: 20/20... Step: 2680... Loss: 1.2146... Val Loss: 1.2780\n",
            "Epoch: 20/20... Step: 2690... Loss: 1.2013... Val Loss: 1.2848\n",
            "Epoch: 20/20... Step: 2700... Loss: 1.2204... Val Loss: 1.2734\n",
            "Epoch: 20/20... Step: 2710... Loss: 1.1784... Val Loss: 1.2757\n",
            "Epoch: 20/20... Step: 2720... Loss: 1.1842... Val Loss: 1.2749\n",
            "Epoch: 20/20... Step: 2730... Loss: 1.1733... Val Loss: 1.2725\n",
            "Epoch: 20/20... Step: 2740... Loss: 1.1858... Val Loss: 1.2763\n",
            "Epoch: 20/20... Step: 2750... Loss: 1.1885... Val Loss: 1.2714\n",
            "Epoch: 20/20... Step: 2760... Loss: 1.1753... Val Loss: 1.2779\n",
            "Epoch: 20/20... Step: 2770... Loss: 1.2158... Val Loss: 1.2775\n",
            "Epoch: 20/20... Step: 2780... Loss: 1.2410... Val Loss: 1.2789\n"
          ],
          "name": "stdout"
        }
      ]
    },
    {
      "cell_type": "markdown",
      "metadata": {
        "id": "c7KsBMv5keFi",
        "colab_type": "text"
      },
      "source": [
        "## Getting the best model\n",
        "\n",
        "To set your hyperparameters to get the best performance, you'll want to watch the training and validation losses. If your training loss is much lower than the validation loss, you're overfitting. Increase regularization (more dropout) or use a smaller network. If the training and validation losses are close, you're underfitting so you can increase the size of the network."
      ]
    },
    {
      "cell_type": "markdown",
      "metadata": {
        "id": "vSvk7eL-keFk",
        "colab_type": "text"
      },
      "source": [
        "## Hyperparameters\n",
        "\n",
        "Here are the hyperparameters for the network.\n",
        "\n",
        "In defining the model:\n",
        "* `n_hidden` - The number of units in the hidden layers.\n",
        "* `n_layers` - Number of hidden LSTM layers to use.\n",
        "\n",
        "We assume that dropout probability and learning rate will be kept at the default, in this example.\n",
        "\n",
        "And in training:\n",
        "* `batch_size` - Number of sequences running through the network in one pass.\n",
        "* `seq_length` - Number of characters in the sequence the network is trained on. Larger is better typically, the network will learn more long range dependencies. But it takes longer to train. 100 is typically a good number here.\n",
        "* `lr` - Learning rate for training\n",
        "\n",
        "Here's some good advice from Andrej Karpathy on training the network. I'm going to copy it in here for your benefit, but also link to [where it originally came from](https://github.com/karpathy/char-rnn#tips-and-tricks).\n",
        "\n",
        "> ## Tips and Tricks\n",
        "\n",
        ">### Monitoring Validation Loss vs. Training Loss\n",
        ">If you're somewhat new to Machine Learning or Neural Networks it can take a bit of expertise to get good models. The most important quantity to keep track of is the difference between your training loss (printed during training) and the validation loss (printed once in a while when the RNN is run on the validation data (by default every 1000 iterations)). In particular:\n",
        "\n",
        "> - If your training loss is much lower than validation loss then this means the network might be **overfitting**. Solutions to this are to decrease your network size, or to increase dropout. For example you could try dropout of 0.5 and so on.\n",
        "> - If your training/validation loss are about equal then your model is **underfitting**. Increase the size of your model (either number of layers or the raw number of neurons per layer)\n",
        "\n",
        "> ### Approximate number of parameters\n",
        "\n",
        "> The two most important parameters that control the model are `n_hidden` and `n_layers`. I would advise that you always use `n_layers` of either 2/3. The `n_hidden` can be adjusted based on how much data you have. The two important quantities to keep track of here are:\n",
        "\n",
        "> - The number of parameters in your model. This is printed when you start training.\n",
        "> - The size of your dataset. 1MB file is approximately 1 million characters.\n",
        "\n",
        ">These two should be about the same order of magnitude. It's a little tricky to tell. Here are some examples:\n",
        "\n",
        "> - I have a 100MB dataset and I'm using the default parameter settings (which currently print 150K parameters). My data size is significantly larger (100 mil >> 0.15 mil), so I expect to heavily underfit. I am thinking I can comfortably afford to make `n_hidden` larger.\n",
        "> - I have a 10MB dataset and running a 10 million parameter model. I'm slightly nervous and I'm carefully monitoring my validation loss. If it's larger than my training loss then I may want to try to increase dropout a bit and see if that helps the validation loss.\n",
        "\n",
        "> ### Best models strategy\n",
        "\n",
        ">The winning strategy to obtaining very good models (if you have the compute time) is to always err on making the network larger (as large as you're willing to wait for it to compute) and then try different dropout values (between 0,1). Whatever model has the best validation performance (the loss, written in the checkpoint filename, low is good) is the one you should use in the end.\n",
        "\n",
        ">It is very common in deep learning to run many different models with many different hyperparameter settings, and in the end take whatever checkpoint gave the best validation performance.\n",
        "\n",
        ">By the way, the size of your training and validation splits are also parameters. Make sure you have a decent amount of data in your validation set or otherwise the validation performance will be noisy and not very informative."
      ]
    },
    {
      "cell_type": "markdown",
      "metadata": {
        "id": "p5NihaUWkeFo",
        "colab_type": "text"
      },
      "source": [
        "## Checkpoint\n",
        "\n",
        "After training, we'll save the model so we can load it again later if we need too. Here I'm saving the parameters needed to create the same architecture, the hidden layer hyperparameters and the text characters."
      ]
    },
    {
      "cell_type": "code",
      "metadata": {
        "id": "MwWjLS1vkeFs",
        "colab_type": "code",
        "colab": {}
      },
      "source": [
        "# change the name, for saving multiple files\n",
        "model_name = 'rnn_x_epoch.net'\n",
        "\n",
        "checkpoint = {'n_hidden': net.n_hidden,\n",
        "              'n_layers': net.n_layers,\n",
        "              'state_dict': net.state_dict(),\n",
        "              'tokens': net.chars}\n",
        "\n",
        "with open(model_name, 'wb') as f:\n",
        "    torch.save(checkpoint, f)"
      ],
      "execution_count": 22,
      "outputs": []
    },
    {
      "cell_type": "markdown",
      "metadata": {
        "id": "MPX0b9LDkeGA",
        "colab_type": "text"
      },
      "source": [
        "---\n",
        "## Making Predictions\n",
        "\n",
        "Now that the model is trained, we'll want to sample from it and make predictions about next characters! To sample, we pass in a character and have the network predict the next character. Then we take that character, pass it back in, and get another predicted character. Just keep doing this and you'll generate a bunch of text!\n",
        "\n",
        "### A note on the `predict`  function\n",
        "\n",
        "The output of our RNN is from a fully-connected layer and it outputs a **distribution of next-character scores**.\n",
        "\n",
        "> To actually get the next character, we apply a softmax function, which gives us a *probability* distribution that we can then sample to predict the next character.\n",
        "\n",
        "### Top K sampling\n",
        "\n",
        "Our predictions come from a categorical probability distribution over all the possible characters. We can make the sample text and make it more reasonable to handle (with less variables) by only considering some $K$ most probable characters. This will prevent the network from giving us completely absurd characters while allowing it to introduce some noise and randomness into the sampled text. Read more about [topk, here](https://pytorch.org/docs/stable/torch.html#torch.topk).\n"
      ]
    },
    {
      "cell_type": "code",
      "metadata": {
        "id": "XdXMbK70keGC",
        "colab_type": "code",
        "colab": {}
      },
      "source": [
        "def predict(net, char, h=None, top_k=None):\n",
        "        ''' Given a character, predict the next character.\n",
        "            Returns the predicted character and the hidden state.\n",
        "        '''\n",
        "        \n",
        "        # tensor inputs\n",
        "        x = np.array([[net.char2int[char]]])\n",
        "        x = one_hot_encode(x, len(net.chars))\n",
        "        inputs = torch.from_numpy(x)\n",
        "        \n",
        "        if(train_on_gpu):\n",
        "            inputs = inputs.cuda()\n",
        "        \n",
        "        # detach hidden state from history\n",
        "        h = tuple([each.data for each in h])\n",
        "        # get the output of the model\n",
        "        out, h = net(inputs, h)\n",
        "\n",
        "        # get the character probabilities\n",
        "        p = F.softmax(out, dim=1).data\n",
        "        if(train_on_gpu):\n",
        "            p = p.cpu() # move to cpu\n",
        "        \n",
        "        # get top characters\n",
        "        if top_k is None:\n",
        "            top_ch = np.arange(len(net.chars))\n",
        "        else:\n",
        "            p, top_ch = p.topk(top_k)\n",
        "            top_ch = top_ch.numpy().squeeze()\n",
        "        \n",
        "        # select the likely next character with some element of randomness\n",
        "        p = p.numpy().squeeze()\n",
        "        char = np.random.choice(top_ch, p=p/p.sum())\n",
        "        \n",
        "        # return the encoded value of the predicted char and the hidden state\n",
        "        return net.int2char[char], h"
      ],
      "execution_count": 23,
      "outputs": []
    },
    {
      "cell_type": "markdown",
      "metadata": {
        "id": "4MaZnlnRkeGV",
        "colab_type": "text"
      },
      "source": [
        "### Priming and generating text \n",
        "\n",
        "Typically you'll want to prime the network so you can build up a hidden state. Otherwise the network will start out generating characters at random. In general the first bunch of characters will be a little rough since it hasn't built up a long history of characters to predict from."
      ]
    },
    {
      "cell_type": "code",
      "metadata": {
        "id": "6edHKozdkeGe",
        "colab_type": "code",
        "colab": {}
      },
      "source": [
        "def sample(net, size, prime='The', top_k=None):\n",
        "        \n",
        "    if(train_on_gpu):\n",
        "        net.cuda()\n",
        "    else:\n",
        "        net.cpu()\n",
        "    \n",
        "    net.eval() # eval mode\n",
        "    \n",
        "    # First off, run through the prime characters\n",
        "    chars = [ch for ch in prime]\n",
        "    h = net.init_hidden(1)\n",
        "    for ch in prime:\n",
        "        char, h = predict(net, ch, h, top_k=top_k)\n",
        "\n",
        "    chars.append(char)\n",
        "    \n",
        "    # Now pass in the previous character and get a new one\n",
        "    for ii in range(size):\n",
        "        char, h = predict(net, chars[-1], h, top_k=top_k)\n",
        "        chars.append(char)\n",
        "\n",
        "    return ''.join(chars)"
      ],
      "execution_count": 24,
      "outputs": []
    },
    {
      "cell_type": "code",
      "metadata": {
        "id": "knpk3oDKkeGx",
        "colab_type": "code",
        "colab": {
          "base_uri": "https://localhost:8080/",
          "height": 434
        },
        "outputId": "cb98a7ad-2342-46f0-b632-cb3de24dbd02"
      },
      "source": [
        "print(sample(net, 1000, prime='Anna', top_k=5))"
      ],
      "execution_count": 25,
      "outputs": [
        {
          "output_type": "stream",
          "text": [
            "Anna was\n",
            "all the matters, this sister, a sense of componing\n",
            "tenserorm, with him, all that it share, and then who had\n",
            "been so seemed along in them and saying him, and that some of\n",
            "that stay that she said, was not all that he did not conceive\n",
            "her.\n",
            "\n",
            "\"You came to take all something, I will be delighted, but as he has\n",
            "not meant to make the peasants.. But if you don't think I am a fortune\n",
            "its facest or that I have the master was not the calm on the subject. I am\n",
            "not a glad of an angrily. When he, I should see\n",
            "in him.\"\n",
            "\n",
            "\"I could anywhere, there and I didn't know what! I'm never\n",
            "breaded to home, and then't that sort of complexities, of the\n",
            "mothor of the process of millions to the same. I am all sorry. I\n",
            "was successful, with me in such a prince. He said, and then't\n",
            "take it, and said, terrible thought I shall see in.\"\n",
            "\n",
            "\"I don't say something immosting, but so simply to bring them, I was\n",
            "thinking and dear to him,\" said Sviazhsky. \"What are you saying it\n",
            "is?\"\n",
            "\n",
            "\"Who's all that you all suppose there were\n"
          ],
          "name": "stdout"
        }
      ]
    },
    {
      "cell_type": "markdown",
      "metadata": {
        "id": "G4cHCdx3keG8",
        "colab_type": "text"
      },
      "source": [
        "## Loading a checkpoint"
      ]
    },
    {
      "cell_type": "code",
      "metadata": {
        "id": "b54PmWy9keG-",
        "colab_type": "code",
        "colab": {
          "base_uri": "https://localhost:8080/",
          "height": 34
        },
        "outputId": "d603d678-009f-4e9d-d0d1-f924e0561564"
      },
      "source": [
        "# Here we have loaded in a model that trained over 20 epochs `rnn_20_epoch.net`\n",
        "with open('rnn_x_epoch.net', 'rb') as f:\n",
        "    checkpoint = torch.load(f)\n",
        "    \n",
        "loaded = CharRNN(checkpoint['tokens'], n_hidden=checkpoint['n_hidden'], n_layers=checkpoint['n_layers'])\n",
        "loaded.load_state_dict(checkpoint['state_dict'])"
      ],
      "execution_count": 26,
      "outputs": [
        {
          "output_type": "execute_result",
          "data": {
            "text/plain": [
              "<All keys matched successfully>"
            ]
          },
          "metadata": {
            "tags": []
          },
          "execution_count": 26
        }
      ]
    },
    {
      "cell_type": "code",
      "metadata": {
        "id": "0lCyKSqekeHJ",
        "colab_type": "code",
        "colab": {
          "base_uri": "https://localhost:8080/",
          "height": 677
        },
        "outputId": "5906ceba-658b-479d-892e-07d134ab5383"
      },
      "source": [
        "# Sample using a loaded model\n",
        "print(sample(loaded, 2000, top_k=5, prime=\"And Levin said\"))"
      ],
      "execution_count": 27,
      "outputs": [
        {
          "output_type": "stream",
          "text": [
            "And Levin said that\n",
            "the part was not to speak these words. But he was at the moment there always saw, he would not\n",
            "comprehend. But with her towards hands of these peasants were the\n",
            "same stead, and he would not be an old prince. But he went to a\n",
            "given man of his son. The conversation with the prince she could not\n",
            "come in the conversation in his hand and with her short. He could not think of\n",
            "his horror of the colonel of that tenderness to spark\n",
            "to his strange than evored times, thene the care in such such a\n",
            "supilief to spirits on the difference of the confidence. He was\n",
            "attentively.\n",
            "\n",
            "\"Where's that some of the man as that you soill her so matter, what is\n",
            "altored for?\"\n",
            "\n",
            "\"Yes, yes, I should show them over it.\"\n",
            "\n",
            "\"You, I've been saying,\" he said to himself.\n",
            "\n",
            "The same taking of it. The charm of a starring since he saw that he was\n",
            "so that the passers, thinking of a complete cross of the mother\n",
            "with his hand to her from her, was not a good thing to\n",
            "beam to him that he had not an end for him and stindlated in her\n",
            "forehand, and that he had sure seemed to thrist that instaits\n",
            "of already, and the meadow of her side that was an intense of the\n",
            "stured table, but the closes of the foinss of the sense of spirit about him,\n",
            "but.. That seemed to tell her a sense of the peasants, then\n",
            "the peasants would see the day at the table of the staring\n",
            "to her. And with a finger was all some too, this conversation had not\n",
            "treet their cheek, she could not be, and he was not to begin to\n",
            "be dinner for the same to the sunsermation of the forest. The\n",
            "peasants was a man well, the first man, that he went on to\n",
            "all were all the same tone with him. But that had so such all the same\n",
            "stanging of the possibility of the samily of a misure husband\n",
            "had then she was a conversation of the master was a man while\n",
            "the measures of a matter was not ashamed of anything to believe it. He\n",
            "saw the same he could not be a last time. She saw them, here weers with\n",
            "his balls, as they were spoking in the provent of the conversation,\n",
            "that he had \n"
          ],
          "name": "stdout"
        }
      ]
    },
    {
      "cell_type": "code",
      "metadata": {
        "id": "Zfo1hmy2keHW",
        "colab_type": "code",
        "colab": {}
      },
      "source": [
        ""
      ],
      "execution_count": null,
      "outputs": []
    }
  ]
}